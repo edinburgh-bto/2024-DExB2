{
 "cells": [
  {
   "cell_type": "markdown",
   "id": "e654898d",
   "metadata": {},
   "source": [
    "## DexB2 Resit August 2024"
   ]
  },
  {
   "cell_type": "code",
   "execution_count": null,
   "id": "73a15136",
   "metadata": {},
   "outputs": [],
   "source": [
    "# Analysis modules\n",
    "import numpy as np\n",
    "import pandas as pd\n",
    "import matplotlib as mpl\n",
    "import matplotlib.pyplot as plt\n",
    "import seaborn as sns\n",
    "%matplotlib inline"
   ]
  },
  {
   "cell_type": "markdown",
   "id": "c5c90c40",
   "metadata": {},
   "source": [
    "Lucy is interested in the evolution of the ARP family of genes.  These are single copy in most species and encode a protein about 370 aminos acids long.  There's more infomation about them here:\n",
    "\n",
    "https://www.uniprot.org/uniprotkb/O80931/entry\n"
   ]
  },
  {
   "cell_type": "markdown",
   "id": "a7f82db6",
   "metadata": {},
   "source": [
    "![alternative text](AS1.png)"
   ]
  },
  {
   "cell_type": "markdown",
   "id": "a014c21c",
   "metadata": {},
   "source": [
    "NCBI (National Centeral for Biological Infomation) maintains a database of all protein sequences.  BLAST is a program which searches this database looking for matches.  Matches are given a score for the number of matches, mismatches and gaps, the percentage identity to the search protein, and the chances of finding a match as good as this in the database by chance alone (e-value/E()).\n",
    "\n",
    "\n"
   ]
  },
  {
   "cell_type": "markdown",
   "id": "84c1f9b2",
   "metadata": {},
   "source": [
    "Lucy has searched the NCBI database with two different ARP genes to find all the ARP-like proteins.  AS1 is an ARP family gene from Arabidopsis, BARP2 is an ARP family gene from Begonia.  \n",
    "\n",
    "The blast hits for AS1 are in :\n",
    "AS1_NCBI.csv\n",
    "\n",
    "The blast hits for BARP2 are in\n",
    "BARP2_NCBI.tsv\n",
    "    \n",
    "AS1_NCBI.csv is comma delineated.  It does not have a header row, but the columns are:\n",
    "    \n",
    " *Description*,\tInfomation about the protein which has matched  \n",
    " *Organism*,\tSpecies the match comes from   \n",
    " *Common Name*,\tcommon name of the species the match comes from  \n",
    " *Score(Bits)*,\tScore for the match (higher = better)  \n",
    " *Query Cover*,\tThe percentage of the Query sequence covered by the match  \n",
    " *E()*,\tThe e-value of the match (likelihood of match by chance alone)  \n",
    " *Identities(%)*,\tThe percentage of identical amino acids in the match  \n",
    " *Length*,\tThe length of the matched protein (in amino acids)  \n",
    " *Accession*, The unique accession number of the matched protein in the NCBI database  \n",
    "    \n",
    "ARP2_NCBI.tsv is tab delineated.  It does have a header row.  \n",
    "\n",
    "*Hit*\tThe number of the match in the blast output  \n",
    "*DB*\tCode for the database searched  \n",
    "*Accession*\tThe unique accession number of the matched protein in the NCBI database  \n",
    "*Description*\tInfomation about the protein which has matched  \n",
    "*Organism*\tSpecies the match comes from   \n",
    "*Length*\tThe length of the matched protein (in amino acids)  \n",
    "*Score(Bits)*\tScore for the match (higher = better)  \n",
    "*Identities(%)*\tThe percentage of identical amino acids in the match  \n",
    "*Positives(%)*\tThe percentage of similar amino acids in the match  \n",
    "*E()* The e-value of the match (likelihood of match by chance alone)  \n"
   ]
  },
  {
   "cell_type": "markdown",
   "id": "ca36832b",
   "metadata": {},
   "source": [
    "She needs to combine the results of these searches into a single dataframe listing all the ARP proteins found.  \n",
    "She needs see how common gene duplication is for this protein.  \n",
    "She needs to see if there is any evidence that after gene duplication there are changes in the protiens, such as loss/gain of sequence."
   ]
  },
  {
   "cell_type": "markdown",
   "id": "4a65075d",
   "metadata": {},
   "source": [
    "#### Checking the searches.  \n",
    "\n",
    "Read in both files, adding a header row to AS1_NCBI.csv.  Check the head and tail of the dataframes to be sure they've read in correctly"
   ]
  },
  {
   "cell_type": "markdown",
   "id": "8672c413",
   "metadata": {},
   "source": [
    "<div class = \"alert alert-danger\">\n",
    "Q1 How many lines of data are in AS1_NCBI.csv?   (1 mark)\n",
    " \n",
    "    \n",
    "    a 567  \n",
    "    b 772  \n",
    "    c 998  \n",
    "    d 1004 \n",
    "    e 5768  \n",
    "    \n",
    "Enter your answer on LEARN   "
   ]
  },
  {
   "cell_type": "markdown",
   "id": "368a2392",
   "metadata": {},
   "source": [
    "These hits include several cases where different protiens from the same species are found.  "
   ]
  },
  {
   "cell_type": "markdown",
   "id": "1dd05c51",
   "metadata": {},
   "source": [
    "<div class = \"alert alert-danger\">\n",
    "Q2 How many unique species (labeled 'Organism' in the dataframe) are in the the AS1 searches?\n",
    "\n",
    "    a 332\n",
    "    b 172\n",
    "    c 729\n",
    "    d 468\n",
    "    e 513\n",
    "    \n",
    "Enter your answer on LEARN"
   ]
  },
  {
   "cell_type": "markdown",
   "id": "0b59031d",
   "metadata": {},
   "source": [
    "Have AS1 and BARP2 found matches in different ranges of species?  Find the overlap in species between the two dataframes.  \n",
    "\n",
    "Useful commands:\n",
    "\n",
    "    .unique()\n",
    "    set(x) - set(y)"
   ]
  },
  {
   "cell_type": "markdown",
   "id": "85f33fb2",
   "metadata": {},
   "source": [
    "<div class = \"alert alert-danger\">\n",
    "Q3 The number of species found in the AS1 search, but not in the BARP1 search is:\n",
    "\n",
    "    a 23\n",
    "    b 75\n",
    "    c 156\n",
    "    d 254\n",
    "    e 305\n",
    "    \n",
    "Enter your answer on LEARN"
   ]
  },
  {
   "cell_type": "markdown",
   "id": "88fbbe1c",
   "metadata": {},
   "source": [
    "#### Combine the dataframes  \n",
    "Simplify the dataframes so they contain only the following columns:  \n",
    "'Accession', 'Organism', 'Length', 'Score(Bits)', 'Identities(%)', 'E()'"
   ]
  },
  {
   "cell_type": "markdown",
   "id": "026f7f3b",
   "metadata": {},
   "source": [
    "Concatenate the dataframes vertically to add the AS1 search to the BARP2 search.  \n",
    "You will need to re-set the index."
   ]
  },
  {
   "cell_type": "markdown",
   "id": "9ba5d6fb",
   "metadata": {},
   "source": [
    "<div class = \"alert alert-danger\">\n",
    "Q4 The number of unique species in this joint dataframe is:\n",
    "\n",
    "    a 152\n",
    "    b 267\n",
    "    c 532\n",
    "    d 808\n",
    "    e 1325\n",
    "    \n",
    "Enter your answer on LEARN"
   ]
  },
  {
   "cell_type": "markdown",
   "id": "d7bca781",
   "metadata": {},
   "source": [
    "#### Plot the scores  \n",
    "The Blast Score counts up the number of exact matches, near matches, mis-matches and gaps in an alignment.  'Real' matches have high scores. However, matches which are less likely to be the same protein, or are in very evolutionary distant species, have lower scores. Usually this is detected by a cut-off in the distribution of scores, below which the number of detected scores sharply increases.\n",
    "\n",
    "Examine the distribution of scores in the combined dataframe, to see if there is a cut-off which we can use to filter the real ARP proteins from other similar proteins."
   ]
  },
  {
   "cell_type": "markdown",
   "id": "c7d0c860",
   "metadata": {},
   "source": [
    "<div class = \"alert alert-danger\">\n",
    "Q5 Plot a histogram of Blast Scores.  Label the x and y axis and give the graph an appropriate title.  \n",
    "   Upload the plot to LEARN (2 marks)"
   ]
  },
  {
   "cell_type": "markdown",
   "id": "1a90899c",
   "metadata": {},
   "source": [
    "<div class = \"alert alert-danger\">\n",
    "Q6 A reasonable cut-off for 'good hits' is:\n",
    "\n",
    "    a >250\n",
    "    b >375\n",
    "    c >500\n",
    "    d >650\n",
    "    e >700\n",
    "    \n",
    "Enter your answer on LEARN"
   ]
  },
  {
   "cell_type": "markdown",
   "id": "fdeb0981",
   "metadata": {},
   "source": [
    "#### Filtering. \n",
    "\n",
    "Filter the dataframe to keep only the good hits."
   ]
  },
  {
   "cell_type": "markdown",
   "id": "82853a53",
   "metadata": {},
   "source": [
    "#### How many copies in each species?  \n",
    "To find the number of copies of ARP genes in each species we need to group the dataframe by species and count the records.  \n",
    "\n",
    "    use .groupby() and .count()"
   ]
  },
  {
   "cell_type": "markdown",
   "id": "5c5b2ba9",
   "metadata": {},
   "source": [
    "Tidy this dataframe so you have only two columns - 'Organism' and a single column of counts which is the copy number.  Rename this column 'Copy_number'.  Reset the index."
   ]
  },
  {
   "cell_type": "markdown",
   "id": "637e140e",
   "metadata": {},
   "source": [
    "<div class = \"alert alert-danger\">\n",
    "Q7 Make a histogram to show the count of copies per species. \n",
    "    Label the y-axis \"Copy number of ARP per species\", give an appropriate title.   \n",
    "    \n",
    "Upload the plot to LEARN (2 marks)"
   ]
  },
  {
   "cell_type": "markdown",
   "id": "2f03ed39",
   "metadata": {},
   "source": [
    "Subset the dataframe to find the species with a copy number of over 4."
   ]
  },
  {
   "cell_type": "markdown",
   "id": "a243f854",
   "metadata": {},
   "source": [
    "<div class = \"alert alert-danger\">\n",
    "Q8 Of the following options, which species has the most copies of the ARP gene?\n",
    "\n",
    "    a Ananas comosus\n",
    "    b Vigna angularis var. angularis\n",
    "    c Zingiber officinale\n",
    "    d Ziziphus jujuba\n",
    "    e Tripterygium wilfordii\n",
    "    \n",
    "Enter your answer on LEARN"
   ]
  },
  {
   "cell_type": "markdown",
   "id": "7852fd33",
   "metadata": {},
   "source": [
    "#### What happens to duplicated ARP proteins?\n",
    "Is there more sequence variation where there are multiple copies of ARP?"
   ]
  },
  {
   "cell_type": "markdown",
   "id": "38554ff5",
   "metadata": {},
   "source": [
    "Join the copy number dataframe to the hit-score (good hits) filtered dataframe:  \n",
    "\n",
    "Columns should now be:\n",
    "\n",
    "        Accession\tOrganism\tLength\tScore(Bits)\tIdentities(%)\tE()\tCopy_number\n",
    "        \n",
    "With one row for each Accession."
   ]
  },
  {
   "cell_type": "markdown",
   "id": "3013d92c",
   "metadata": {},
   "source": [
    "<div class = \"alert alert-danger\">\n",
    "Q9 Make a violin plot to show the % Identity by Copy number. Label the X and Y axes and give an appropriate title.\n",
    "    \n",
    "    \n",
    "   Upload the plot to LEARN (2 marks)"
   ]
  },
  {
   "cell_type": "markdown",
   "id": "3f227980",
   "metadata": {},
   "source": [
    "#### Is there a pattern to the length of ARP proteins?\n",
    "\n",
    "Sometimes BLAST hits detect a full-length protein and sometimes a truncated protein. It's important to distinguish these, and truncated proteins may have a different function or have lost function. Usually, full-length proteins will have similar lengths to one another, and truncated proteins will be clearly shorter.\n",
    "\n",
    "Using the filtered data frame of good hits, next investigate the length of ARP proteins.  "
   ]
  },
  {
   "cell_type": "markdown",
   "id": "2f59c0bb",
   "metadata": {},
   "source": [
    "<div class = \"alert alert-danger\">\n",
    "Q10 Plot a histogram of the length of ARP proteins in amino acids.  Bin the data into 50 bins.   Label the X and Y axes and give an appropriate title.\n",
    "    \n",
    "    \n",
    "   Upload the plot to LEARN (2 marks)"
   ]
  },
  {
   "cell_type": "markdown",
   "id": "8e0889fd",
   "metadata": {},
   "source": [
    "<div class = \"alert alert-danger\">\n",
    "Q11 What is a good dividing line between truncated and full length ARP proteins?\n",
    "\n",
    "    a 200 amino acids long\n",
    "    b 300 amino acids long\n",
    "    c 350 amino acids long\n",
    "    d 450 amino acids long\n",
    "    e 500 amino acids long\n",
    "    \n",
    "Enter your answer on LEARN (1 mark)"
   ]
  },
  {
   "cell_type": "markdown",
   "id": "bd26a848",
   "metadata": {},
   "source": [
    "Is there any evidence that the short proteins are not real ARP proteins?  Plot identity by length in a scatter plot."
   ]
  },
  {
   "cell_type": "markdown",
   "id": "988af851",
   "metadata": {},
   "source": [
    "<div class = \"alert alert-danger\">\n",
    "Q12 Plot identity by length in a scatter plot.  Use jointplot to show historgrams as well, and make the points small enough to distinguish (for example s=5).  Label the X and Y axes and give an appropriate title.\n",
    "    \n",
    "As this is a jointplot you have to set the title and labels with:\n",
    "    ax.fig.suptitle('Title here')\n",
    "    ax.set_axis_labels('X label', 'Y label')\n",
    "    \n",
    "    \n",
    "   Upload the plot to LEARN (2 marks)"
   ]
  },
  {
   "cell_type": "markdown",
   "id": "f7806108",
   "metadata": {},
   "source": [
    "Categorise each protein as full length or truncated in a new column called 'Size'.  \n",
    "\n",
    "Assign values based on a conditional length range of your choice, for example using DataFrame.loc[]. "
   ]
  },
  {
   "cell_type": "markdown",
   "id": "62612649",
   "metadata": {},
   "source": [
    "<div class = \"alert alert-danger\">\n",
    "Q13 Which of these species has only truncated ARP genes?  Look up the matching dataframe rows to check.\n",
    "    \n",
    "    a Sesamum indicum\n",
    "    b Solanum lycopersicum\n",
    "    c Momordica charantia\n",
    "    d Phtheirospermum japonicum\n",
    "    e Daucus carota subsp. sativus\n",
    "    \n",
    "Enter your answer on LEARN (2 marks)"
   ]
  },
  {
   "cell_type": "markdown",
   "id": "4438342f",
   "metadata": {},
   "source": [
    "#### Do the truncated proteins show more variation than full length proteins?"
   ]
  },
  {
   "cell_type": "markdown",
   "id": "bb3c7542",
   "metadata": {},
   "source": [
    "Compare the average identity for short and long proteins."
   ]
  },
  {
   "cell_type": "markdown",
   "id": "f41d3f65",
   "metadata": {},
   "source": [
    "<div class = \"alert alert-danger\">\n",
    "Q14 Use a t-test to see if truncated proteins are less similar to ARP than full length proteins (by %_Identity)\n",
    "\n",
    "    a Yes, pvalue = 0.01\n",
    "    b No, pvalue > 0.05\n",
    "    c Yes, pvalue = 0.05\n",
    "    d No, pvalue > 0.001\n",
    "    e Yes, pvalue = 5%\n",
    "    \n",
    "Enter your answer on LEARN (2 marks)"
   ]
  },
  {
   "cell_type": "markdown",
   "id": "3a7153bd",
   "metadata": {},
   "source": [
    "<div class = \"alert alert-danger\">\n",
    "Upload your notebook to LEARN"
   ]
  }
 ],
 "metadata": {
  "kernelspec": {
   "display_name": "Python 3 (ipykernel)",
   "language": "python",
   "name": "python3"
  },
  "language_info": {
   "codemirror_mode": {
    "name": "ipython",
    "version": 3
   },
   "file_extension": ".py",
   "mimetype": "text/x-python",
   "name": "python",
   "nbconvert_exporter": "python",
   "pygments_lexer": "ipython3",
   "version": "3.9.13"
  }
 },
 "nbformat": 4,
 "nbformat_minor": 5
}
