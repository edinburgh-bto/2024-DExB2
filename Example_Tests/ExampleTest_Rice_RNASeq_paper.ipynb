{
 "cells": [
  {
   "cell_type": "markdown",
   "id": "ef6be1b1",
   "metadata": {},
   "source": [
    "## DExB2 Example Class Test - Rice RNASeq"
   ]
  },
  {
   "cell_type": "code",
   "execution_count": 59,
   "id": "ac4eb2bc",
   "metadata": {},
   "outputs": [],
   "source": [
    "# Analysis modules - make sure you run this first to import all the modules you'll need\n",
    "import warnings\n",
    "import matplotlib.pyplot as plt\n",
    "import pandas as pd\n",
    "import numpy as np\n",
    "import seaborn as sns\n",
    "%matplotlib inline\n",
    "from statsmodels.formula.api import ols\n",
    "\n",
    "warnings.filterwarnings(\"ignore\")"
   ]
  },
  {
   "cell_type": "markdown",
   "id": "f130eec1",
   "metadata": {},
   "source": [
    "This project has been looking for genetic material to enhance rice yields under drought. RNASeq data has been generated from several tissues for cultivated rice and drought-tolerant wild varieties.  "
   ]
  },
  {
   "cell_type": "markdown",
   "id": "b40a89ea",
   "metadata": {},
   "source": [
    "The raw expression data is spread across 6 files:  \n",
    "        \n",
    "        Cult_1.txt\n",
    "        Cult_2.txt\n",
    "        Cult_3.txt\n",
    "        Wild_1.txt\n",
    "        Wild_2.txt\n",
    "        Wild_3.txt\n",
    "        \n",
    "The key columns are the gene name and the Transcripts per Million reads (TPM)\n",
    "The other columns and the raw number of reads mapping to each gene (NumReads), the Length of the gene, and the Effective Length (takes into account all factors being modeled that will effect the probability of sampling fragments from this transcript, including the fragment length distribution and sequence-specific and gc-fragment bias)\n",
    "\n",
    "The annotation is here:\n",
    "\n",
    "        Rice_annot.txt\n",
    "        \n",
    "        "
   ]
  },
  {
   "cell_type": "markdown",
   "id": "af64fdee",
   "metadata": {},
   "source": [
    "#### Read the RNASeq data in and join together to make a tidy table\n",
    "You want the TPM (transcripts per million) column from each dataframe.\n",
    "\n",
    "To set the index as the gene name use:\n",
    "\n",
    "    index_col=0\n",
    "    "
   ]
  },
  {
   "cell_type": "markdown",
   "id": "81ac3c37",
   "metadata": {},
   "source": [
    "<div class = \"alert alert-danger\">\n",
    "Q1 How many data rows are there in the third replicate of the wild rice?  (1 mark)\n",
    " \n",
    "    \n",
    "    a 8723    \n",
    "    b 11296  \n",
    "    c 13409   \n",
    "    d 22467   \n",
    "    e 45072    \n",
    "    \n",
    "Enter your answer on LEARN"
   ]
  },
  {
   "cell_type": "markdown",
   "id": "580a2d69",
   "metadata": {},
   "source": [
    "<div class = \"alert alert-danger\">\n",
    "Q2 What is the maximum TPM for any gene in rep 1 of the Cultivated Rice?  (1 mark)\n",
    "\n",
    "    a 3427.257  \n",
    "    b 7730.83 \n",
    "    c 21684.946  \n",
    "    d 25196.333  \n",
    "    e 41984.324  \n",
    "    \n",
    "Enter your answer on LEARN"
   ]
  },
  {
   "cell_type": "markdown",
   "id": "b8b772a9",
   "metadata": {},
   "source": [
    "<div class = \"alert alert-danger\">\n",
    "Q3 What is name of the gene with the highest TPM in  Cultivated Rice rep 1? (1 mark)\n",
    "\n",
    "    a Scaffolds_1827_0.16_mRNA_1 \n",
    "    b Scaffolds_1075_2.1_mRNA_1\n",
    "    c Scaffolds_1400_0.36_mRNA_1  \n",
    "    d Scaffolds_1745_0.15_mRNA_1  \n",
    "    e Scaffolds_1853_0.18_mRNA_1  \n",
    "    \n",
    "Enter your answer on LEARN"
   ]
  },
  {
   "cell_type": "markdown",
   "id": "d4b08e2b",
   "metadata": {},
   "source": [
    "<div class = \"alert alert-danger\">\n",
    "Q4 Plot TPM by NumReads for Cultivated Rice rep 1 as lmplot and upload the plot to LEARN (2 marks)"
   ]
  },
  {
   "cell_type": "markdown",
   "id": "e7a013b6",
   "metadata": {},
   "source": [
    "<div class = \"alert alert-danger\">\n",
    "Q5 Fit a model for the line in this plot using ols().  Which of these statements is true?  (1 mark)\n",
    "\n",
    "    a NumReads drives TPM\n",
    "    b The intercept is significantly different from zero\n",
    "    c The slope has a coefficient of 0.27\n",
    "    d The P-value for NumReads supports a non-zero intercept\n",
    "    e The t statistic for the slope shows a positive realtionship\n",
    "    \n",
    "Enter your answer on LEARN  "
   ]
  },
  {
   "cell_type": "markdown",
   "id": "e11ff3fb",
   "metadata": {},
   "source": [
    "Concatenate the TPM values across dataframes. Remember that you want only the TPM (transcripts per million) column from each dataframe, along with the gene name index . (If you try to include more than these columns from each dataframe, you will run into frustrating problems with column headers.)\n",
    "\n",
    "Use  \n",
    "\n",
    "    pd.concat  with keys=['cult_1', 'cult_2', 'cult_3', 'wild_1', 'wild_2', 'wild_3']\n",
    "    \n",
    "This gives nested column headers.  Reset to the top level using:  \n",
    "\n",
    "    df.columns = df.columns.get_level_values(0)\n",
    "    \n",
    "Sort by the values for replicate 1 of the cultivate rice.  Use:\n",
    "\n",
    "    df.sort_values()"
   ]
  },
  {
   "cell_type": "markdown",
   "id": "96f793ae",
   "metadata": {},
   "source": [
    "<div class = \"alert alert-danger\">\n",
    "Q6 What is the TPM in wild rice replicate 1 for the gene most highly expressed in cultivated rice replicate 1?  (1 mark)\n",
    "\n",
    "    a 785.21 \n",
    "    b 9071.88  \n",
    "    c 28106.24  \n",
    "    d 5026.12  \n",
    "    e 58203.12 \n",
    "    \n",
    "Enter your answer on LEARN\n"
   ]
  },
  {
   "cell_type": "markdown",
   "id": "d7f1a4b8",
   "metadata": {},
   "source": [
    "Read in the annotations.  Use df.loc to find the row where 'Gene_model' matches the name of the gene most highly expressed gene in cultivate rice replicate 1.\n"
   ]
  },
  {
   "cell_type": "markdown",
   "id": "5afb5f81",
   "metadata": {},
   "source": [
    "<div class = \"alert alert-danger\">\n",
    "Q7 What is the annotation for the most highly expressed gene in cultivated rice replicate 1? (1 mark)\n",
    "\n",
    "    a External stimuli response.salinity \n",
    "    b Solute transport.primary  \n",
    "    c Cell wall organisation \n",
    "    d Protein homeostasis \n",
    "    Xe Tonoplast intrinsic protein  \n",
    "    \n",
    "Enter your answer on LEARN\n"
   ]
  },
  {
   "cell_type": "markdown",
   "id": "ac79c339",
   "metadata": {},
   "source": [
    "Plot a heatmap of the TPM data using sns.heatmap()  \n",
    "\n",
    "\n",
    "To remove the influence of highly expressed outliers use \n",
    "\n",
    "    robust=True\n",
    "    "
   ]
  },
  {
   "cell_type": "markdown",
   "id": "be063072",
   "metadata": {},
   "source": [
    "<div class = \"alert alert-danger\">\n",
    "Q8 Upload the heatmap to LEARN (2 marks)"
   ]
  },
  {
   "cell_type": "markdown",
   "id": "63f540bf",
   "metadata": {},
   "source": [
    "Re-arrange the dataframe to long form using\n",
    "\n",
    "    pd.melt\n",
    "    \n",
    "The value name should be 'TPM'.\n",
    "\n",
    "The value vars will be ['cult_1', 'cult_2', 'cult_3', 'wild_1', 'wild_2', 'wild_3']\n",
    "    \n",
    "You will need to reset the index first using:\n",
    "    \n",
    "    df.reset_index(inplace = True)"
   ]
  },
  {
   "cell_type": "markdown",
   "id": "6e9c998e",
   "metadata": {},
   "source": [
    "<div class = \"alert alert-danger\">\n",
    "Q9 Which of the samples has the maximum TPM overall? (1 mark)\n",
    "\n",
    "    Xa Cultivated 1   \n",
    "    b Cultivated 2 \n",
    "    c Cultivated 3   \n",
    "    d Wild 1    \n",
    "    e Wild 2  \n",
    "    f Wild 3. \n",
    "    \n",
    "Enter your answer on LEARN"
   ]
  },
  {
   "cell_type": "markdown",
   "id": "66b0fae2",
   "metadata": {},
   "source": [
    "Split the variable column with sample type and replicate into two columns.  Use:  \n",
    "    \n",
    "    df[['A', 'B']] = df['AB'].str.split(' ', n=1, expand=True)\n",
    "    \n",
    "Drop the original 'variable' column"
   ]
  },
  {
   "cell_type": "markdown",
   "id": "65e3476c",
   "metadata": {},
   "source": [
    "Use multiple regression analysis with two categorical explanatory variables and a numerical response variable to look at the effect of Sample and Replicate on TPM.  \n",
    "\n",
    "Use the formula 'TPM ~ Sample + Rep'\n"
   ]
  },
  {
   "cell_type": "markdown",
   "id": "78646896",
   "metadata": {},
   "source": [
    "<div class = \"alert alert-danger\">\n",
    "Q10 What is the P value for the effect of Sample? (1 mark)\n",
    "\n",
    "    Xa 0.788 \n",
    "    b 0.023 \n",
    "    c 0.001 \n",
    "    d 0.432 \n",
    "    e 0.037\n",
    "    \n",
    "Enter your answer on LEARN"
   ]
  },
  {
   "cell_type": "markdown",
   "id": "2456514e",
   "metadata": {},
   "source": [
    "These genes are involved in salt tolerance.  Are salt tolerance genes significantly differentially expressed between wild and cultivated rice?\n",
    "\n",
    "    ['Scaffolds_120_4.20_mRNA_1',\n",
    "     'Scaffolds_1226_3.13_mRNA_1',\n",
    "     'Scaffolds_1308_3.10_mRNA_1',\n",
    "     'Scaffolds_1516_1.16_mRNA_1',\n",
    "     'Scaffolds_2846_0.55_mRNA_1',\n",
    "     'Scaffolds_486_2.19_mRNA_1',\n",
    "     'Scaffolds_585_0.35_mRNA_1']\n",
    " \n",
    "Subset the dataframe using\n",
    " \n",
    "      df[df['Column'].isin([list])]\n",
    "      \n",
    " \n",
    " Then make a boxplot to compare expression of these genes between all the samples.\n"
   ]
  },
  {
   "cell_type": "markdown",
   "id": "5cca3c96",
   "metadata": {},
   "source": [
    "<div class = \"alert alert-danger\">\n",
    "Q11 upload the boxplot to LEARN (2 marks)"
   ]
  }
 ],
 "metadata": {
  "kernelspec": {
   "display_name": "Python 3 (ipykernel)",
   "language": "python",
   "name": "python3"
  },
  "language_info": {
   "codemirror_mode": {
    "name": "ipython",
    "version": 3
   },
   "file_extension": ".py",
   "mimetype": "text/x-python",
   "name": "python",
   "nbconvert_exporter": "python",
   "pygments_lexer": "ipython3",
   "version": "3.9.13"
  }
 },
 "nbformat": 4,
 "nbformat_minor": 5
}
