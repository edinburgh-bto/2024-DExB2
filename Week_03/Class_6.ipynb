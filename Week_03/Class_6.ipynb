{
 "cells": [
  {
   "cell_type": "markdown",
   "id": "c418220f",
   "metadata": {},
   "source": [
    "# Class 6: Customising our plots\n",
    "\n",
    "&nbsp;  \n",
    "**Welcome to class 6!** Today we're going to explore how we can use seaborn and matplotlib to customise our plots. We'll be looking at colour palettes, adding titles, formatting our axes and more."
   ]
  },
  {
   "cell_type": "markdown",
   "id": "cf94fb57",
   "metadata": {},
   "source": [
    "## Load the modules\n",
    "\n",
    "For this class, we'll need pandas, matplotlib and seaborn."
   ]
  },
  {
   "cell_type": "code",
   "execution_count": null,
   "id": "20dd126d",
   "metadata": {},
   "outputs": [],
   "source": [
    "import pandas as pd\n",
    "import matplotlib as mpl\n",
    "import matplotlib.pyplot as plt\n",
    "import seaborn as sns"
   ]
  },
  {
   "cell_type": "markdown",
   "id": "784f743f",
   "metadata": {},
   "source": [
    "## Styles, scaling and colour palettes"
   ]
  },
  {
   "attachments": {
    "Colour%20palettes.png": {
     "image/png": "[encoded data removed]"
    }
   },
   "cell_type": "markdown",
   "id": "bcb58f46",
   "metadata": {},
   "source": [
    "<div>\n",
    "<img src=\"attachment:Colour%20palettes.png\" width='50%' title=\"\"/>\n",
    "</div>\n",
    "&nbsp;"
   ]
  },
  {
   "cell_type": "markdown",
   "id": "e0940c7a",
   "metadata": {},
   "source": [
    "### Styles\n",
    "\n",
    "Seaborn has a number of aesthetic styles which control the look of the plot. These include `whitegrid`, `darkgrid`, `dark`, `white` and `ticks` (the default).\n",
    "\n",
    "Let's start by reading in the Iris.txt dataset that we used on Monday. Load this in from the Datasets folder and call it iris."
   ]
  },
  {
   "cell_type": "code",
   "execution_count": null,
   "id": "1bc90ac7",
   "metadata": {},
   "outputs": [],
   "source": []
  },
  {
   "cell_type": "markdown",
   "id": "b1120f37",
   "metadata": {},
   "source": [
    "We need to set the aesthetic style before we start plotting. We do this using the code `sns.set_style`."
   ]
  },
  {
   "cell_type": "code",
   "execution_count": null,
   "id": "7661ccb2",
   "metadata": {},
   "outputs": [],
   "source": [
    "sns.set_style('whitegrid')\n",
    "\n",
    "sns.jointplot(x = 'sepal_length', y = 'petal_length', data = iris, hue = 'Species'); # note the semicolon at the end suppresses the line of text above the plot"
   ]
  },
  {
   "cell_type": "markdown",
   "id": "daadebc7",
   "metadata": {},
   "source": [
    "Copy the code above, but change the style to `darkgrid` then `dark` then `white` to explore how these different styles affect the plot."
   ]
  },
  {
   "cell_type": "code",
   "execution_count": null,
   "id": "6ad0e789",
   "metadata": {},
   "outputs": [],
   "source": []
  },
  {
   "cell_type": "markdown",
   "id": "bce263e1",
   "metadata": {},
   "source": [
    "We can reset the style by returning to the default, `ticks`."
   ]
  },
  {
   "cell_type": "code",
   "execution_count": null,
   "id": "f61a8d3d",
   "metadata": {},
   "outputs": [],
   "source": [
    "sns.set_style('ticks')"
   ]
  },
  {
   "cell_type": "markdown",
   "id": "850d8c91",
   "metadata": {},
   "source": [
    "### Scaling"
   ]
  },
  {
   "cell_type": "markdown",
   "id": "ac2d8442",
   "metadata": {},
   "source": [
    "We can use the `set_context` command to control the scaling of the labels, line width and other elements of the plot. The options are `paper` (which scales the plot for a paper publication), `notebook` (the default), `talk` (ideal for a Powerpoint presentation) and `poster` (for printing on to a large poster).\n",
    "\n",
    "Experiment with these different scales in the cell below."
   ]
  },
  {
   "cell_type": "code",
   "execution_count": null,
   "id": "a6ce6cba",
   "metadata": {},
   "outputs": [],
   "source": [
    "sns.set_context('talk')\n",
    "\n",
    "sns.jointplot(x = 'sepal_length', y = 'petal_length', data = iris, hue = 'Species');"
   ]
  },
  {
   "cell_type": "markdown",
   "id": "bc68e974",
   "metadata": {},
   "source": [
    "Let's reset to the default."
   ]
  },
  {
   "cell_type": "code",
   "execution_count": null,
   "id": "08c18d80",
   "metadata": {},
   "outputs": [],
   "source": [
    "sns.set_context(\"notebook\")"
   ]
  },
  {
   "cell_type": "markdown",
   "id": "d8307ed3",
   "metadata": {},
   "source": [
    "### Colour palettes\n",
    "\n",
    "Seaborn has a huge array of different colour palettes that you can choose from. Theses include six variations of matplotlib’s palette, called deep, muted, pastel, bright, dark, and colorblind. It also has it's own palettes:  'Accent', 'Accent_r', 'Blues', 'Blues_r', 'BrBG', 'BrBG_r', 'BuGn', 'BuGn_r', 'BuPu', 'BuPu_r', 'CMRmap', 'CMRmap_r', 'Dark2', 'Dark2_r', 'GnBu', 'GnBu_r', 'Greens', 'Greens_r', 'Greys', 'Greys_r', 'OrRd', 'OrRd_r', 'Oranges', 'Oranges_r', 'PRGn', 'PRGn_r', 'Paired', 'Paired_r', 'Pastel1', 'Pastel1_r', 'Pastel2', 'Pastel2_r', 'PiYG', 'PiYG_r', 'PuBu', 'PuBuGn', 'PuBuGn_r', 'PuBu_r', 'PuOr', 'PuOr_r', 'PuRd', 'PuRd_r', 'Purples', 'Purples_r', 'RdBu', 'RdBu_r', 'RdGy', 'RdGy_r', 'RdPu', 'RdPu_r', 'RdYlBu', 'RdYlBu_r', 'RdYlGn', 'RdYlGn_r', 'Reds', 'Reds_r', 'Set1', 'Set1_r', 'Set2', 'Set2_r', 'Set3', 'Set3_r', 'Spectral', 'Spectral_r', 'Wistia', 'Wistia_r', 'YlGn', 'YlGnBu', 'YlGnBu_r', 'YlGn_r', 'YlOrBr', 'YlOrBr_r', 'YlOrRd', 'YlOrRd_r', 'afmhot', 'afmhot_r', 'autumn', 'autumn_r', 'binary', 'binary_r', 'bone', 'bone_r', 'brg', 'brg_r', 'bwr', 'bwr_r', 'cividis', 'cividis_r', 'cool', 'cool_r', 'coolwarm', 'coolwarm_r', 'copper', 'copper_r', 'crest', 'crest_r', 'cubehelix', 'cubehelix_r', 'flag', 'flag_r', 'flare', 'flare_r', 'gist_earth', 'gist_earth_r', 'gist_gray', 'gist_gray_r', 'gist_heat', 'gist_heat_r', 'gist_ncar', 'gist_ncar_r', 'gist_rainbow', 'gist_rainbow_r', 'gist_stern', 'gist_stern_r', 'gist_yarg', 'gist_yarg_r', 'gnuplot', 'gnuplot2', 'gnuplot2_r', 'gnuplot_r', 'gray', 'gray_r', 'hot', 'hot_r', 'hsv', 'hsv_r', 'icefire', 'icefire_r', 'inferno', 'inferno_r', 'jet', 'jet_r', 'magma', 'magma_r', 'mako', 'mako_r', 'nipy_spectral', 'nipy_spectral_r', 'ocean', 'ocean_r', 'pink', 'pink_r', 'plasma', 'plasma_r', 'prism', 'prism_r', 'rainbow', 'rainbow_r', 'rocket', 'rocket_r', 'seismic', 'seismic_r', 'spring', 'spring_r', 'summer', 'summer_r', 'tab10', 'tab10_r', 'tab20', 'tab20_r', 'tab20b', 'tab20b_r', 'tab20c', 'tab20c_r', 'terrain', 'terrain_r', 'turbo', 'turbo_r', 'twilight', 'twilight_r', 'twilight_shifted', 'twilight_shifted_r', 'viridis', 'viridis_r', 'vlag', 'vlag_r', 'winter', 'winter_r'.\n",
    "\n",
    "For more information on choosing colour palettes, check out the seaborn documentation here: https://seaborn.pydata.org/tutorial/color_palettes.html.\n",
    "\n",
    "To view a colour palette we use `sns.color_palette()` and to change the colour palette, we use `sns.set_palette()`."
   ]
  },
  {
   "cell_type": "code",
   "execution_count": null,
   "id": "f3a56cbc",
   "metadata": {},
   "outputs": [],
   "source": [
    "sns.color_palette('Pastel2') # note the spelling of 'color'"
   ]
  },
  {
   "cell_type": "code",
   "execution_count": null,
   "id": "cfb868de",
   "metadata": {},
   "outputs": [],
   "source": [
    "sns.set_palette('cool')\n",
    "sns.jointplot(x = \"sepal_length\", y = \"petal_length\", data = iris, hue = \"Species\");"
   ]
  },
  {
   "cell_type": "markdown",
   "id": "56b2d800",
   "metadata": {},
   "source": [
    "Change the colour palette in the code above to explore some of seaborn's other options.\n",
    "\n",
    "The default colour palette is 'tab10' so let's reset this now."
   ]
  },
  {
   "cell_type": "code",
   "execution_count": null,
   "id": "f5e57dc2",
   "metadata": {},
   "outputs": [],
   "source": [
    "sns.set_palette('tab10')"
   ]
  },
  {
   "cell_type": "markdown",
   "id": "bcd2bee2",
   "metadata": {},
   "source": [
    "## Customising the size, title and axes\n",
    "\n",
    "There are lots of ways you can customise plots in seaborn. In this class, we'll just show you a small number of ways but for further tips and tricks, check out the matplotlib and seaborn documentation."
   ]
  },
  {
   "cell_type": "markdown",
   "id": "019e8be4",
   "metadata": {},
   "source": [
    "### Plot size\n",
    "\n",
    "The way we change a figure's size depends on whether the figure is a figure-level plot or an axes-level plot.\n",
    "\n",
    "When we draw a **figure-level plot** (e.g. `relplot`, `displot`, `catplot`), we control the size with the `height` and `aspect` arguments within the plot command. 'Height' is the height of the figure in inches (default = 5) and aspect is the ratio of the width to the height (default = 1)."
   ]
  },
  {
   "cell_type": "code",
   "execution_count": null,
   "id": "cec26a5d",
   "metadata": {},
   "outputs": [],
   "source": [
    "sns.relplot(x = 'sepal_length', y = 'petal_length', data = iris, hue = 'Site', height = 6, aspect = 1.5);"
   ]
  },
  {
   "cell_type": "markdown",
   "id": "8e508d60",
   "metadata": {},
   "source": [
    "When we want to draw an **axes-level plot** (e.g. `sns.scatterplot`, `sns.boxplot`) we can set the size before plotting using the `plt.figure(figsize =)` command. The default is 6.4 inches wide by 4.8 inches high."
   ]
  },
  {
   "cell_type": "code",
   "execution_count": null,
   "id": "e99af923",
   "metadata": {},
   "outputs": [],
   "source": [
    "plt.figure(figsize = (9, 6))\n",
    "sns.scatterplot(x = 'sepal_length', y = 'petal_length', data = iris, hue = 'Site');"
   ]
  },
  {
   "cell_type": "markdown",
   "id": "a46d6d05",
   "metadata": {},
   "source": [
    "Plot a strip plot of petal width by species, coloured by Site, but change the size to 8 inches wide and 4 inches high. Try it using both `sns.catplot` and `sns.stripplot`."
   ]
  },
  {
   "cell_type": "code",
   "execution_count": null,
   "id": "be0e838c",
   "metadata": {},
   "outputs": [],
   "source": []
  },
  {
   "cell_type": "code",
   "execution_count": null,
   "id": "9a74317a",
   "metadata": {},
   "outputs": [],
   "source": []
  },
  {
   "cell_type": "markdown",
   "id": "933f0ed8",
   "metadata": {},
   "source": [
    "### Adding titles and customising the axes\n",
    "\n",
    "When we draw a **single plot**, we can use matplotlib to customise the title and axes. This works for both figure-level and axes-level plots.\n",
    "\n",
    "Here are a couple of examples. Look through the code and see if you can work out what each command is doing."
   ]
  },
  {
   "cell_type": "code",
   "execution_count": null,
   "id": "9ba81554",
   "metadata": {},
   "outputs": [],
   "source": [
    "sns.catplot(x = 'Species', y = 'sepal_length', data = iris, kind = 'box', hue = 'Site')\n",
    "plt.title('Sepal length', fontsize = 20)\n",
    "plt.ylim(4.0,8.0)\n",
    "plt.xlabel(\"Species\", fontsize = 15)\n",
    "plt.ylabel(\"Sepal length (mm)\", fontsize = 15)\n",
    "plt.xticks(rotation = 45, style = 'italic', fontsize = 10);"
   ]
  },
  {
   "cell_type": "code",
   "execution_count": null,
   "id": "d496df17",
   "metadata": {},
   "outputs": [],
   "source": [
    "sns.lineplot(x = \"sepal_length\", y = \"petal_length\", data = iris, hue = \"Species\")\n",
    "plt.title('Petal Length vs Sepal Length', fontsize = 20)\n",
    "plt.xlabel('Sepal length (mm)', fontsize = 12)\n",
    "plt.ylabel('Petal length (mm)', fontsize = 12)\n",
    "plt.legend(loc = 'lower right', title = 'Species', frameon = False);"
   ]
  },
  {
   "cell_type": "markdown",
   "id": "b80392f6",
   "metadata": {},
   "source": [
    "When we have **multiple plots** together, either because we have used the `col` argument in a figure-level plot or because we have used `subplots` to plot multiple axes-level plots, then we need to use different commands to change the title and axes.\n",
    "\n",
    "Have a look through the code below and see if you can work out what each line of code is doing. Ask a demonstrator if anything is not clear. Note that the code is a bit different depending on whether we are plotting a figure-level plot or an axes-level plot."
   ]
  },
  {
   "cell_type": "code",
   "execution_count": null,
   "id": "beeccb17",
   "metadata": {},
   "outputs": [],
   "source": [
    "g = sns.displot(x = 'sepal_length', data = iris, hue = 'Species', col = 'Site')\n",
    "g.fig.suptitle('Sepal Length', fontsize = 25, y = 1.1) # use the y to adjust the vertical alignment\n",
    "g.axes[0,0].set_title('Field', fontsize = 15)\n",
    "g.axes[0,1].set_title('Marsh', fontsize = 15)\n",
    "g.axes[0,2].set_title('Roadside', fontsize = 15)\n",
    "g.set_axis_labels('Sepal length (mm)', 'Count', fontsize = 12)\n",
    "g.set(ylim = (0, 8))\n",
    "g.set_xticklabels(rotation = 45);"
   ]
  },
  {
   "cell_type": "code",
   "execution_count": null,
   "id": "791a5e9b",
   "metadata": {},
   "outputs": [],
   "source": [
    "fig, axes = plt.subplots(1, 3, figsize = (15,5))\n",
    "fig.suptitle('Relationships between sepal length and petal length for each species', fontsize = 15)\n",
    "\n",
    "sns.boxplot(x = 'Species', y = 'sepal_length', data = iris, ax = axes[0])\n",
    "axes[0].set_title('Sepal length')\n",
    "axes[0].set_xlabel('Species')\n",
    "axes[0].set_ylabel('Sepal length (mm)')\n",
    "\n",
    "sns.lineplot(x = 'sepal_length', y = 'petal_length', data = iris, ax = axes[1])\n",
    "axes[1].set_title('Sepal length vs petal length')\n",
    "axes[1].set_xlabel('Sepal length (mm)')\n",
    "axes[1].set_ylabel('Petal length (mm)')\n",
    "\n",
    "sns.stripplot(x = 'Species', y = 'petal_length', data = iris, hue = 'Species', ax = axes[2], legend = False)\n",
    "axes[2].set_title('Petal length')\n",
    "axes[2].set_xlabel('Species')\n",
    "axes[2].set_ylabel('Petal length (mm)');"
   ]
  },
  {
   "cell_type": "markdown",
   "id": "4e236a00",
   "metadata": {},
   "source": [
    "Using the code above as templates, draw the following plots, add a title and adjust the axes and axes labels as you see fit.\n",
    "\n",
    "- a bar plot of sepal length by species\n",
    "- three scatter plots next to each other, one for each species, of sepal length by sepal width\n",
    "- a histogram of petal width next to a strip plot of petal width by species"
   ]
  },
  {
   "cell_type": "code",
   "execution_count": null,
   "id": "68d12d55",
   "metadata": {},
   "outputs": [],
   "source": []
  },
  {
   "cell_type": "code",
   "execution_count": null,
   "id": "39de0a6a",
   "metadata": {},
   "outputs": [],
   "source": []
  },
  {
   "cell_type": "code",
   "execution_count": null,
   "id": "dcaaa12b",
   "metadata": {},
   "outputs": [],
   "source": []
  },
  {
   "cell_type": "markdown",
   "id": "c8ce36c6",
   "metadata": {},
   "source": [
    "## Customising the legend\n",
    "\n",
    "Seaborn offers a number of options for customising the legends of our plots. The way you customise your legend depends on the sort of plot it is (axes-level or figure-level). For simplicity, we'll just look at a single axes-level plot to see some of the options that are available.\n",
    "\n",
    "Look through the code in the cells below and try to work out what the legend will look like. Then run the code to see if you were correct."
   ]
  },
  {
   "cell_type": "code",
   "execution_count": null,
   "id": "89302fea",
   "metadata": {},
   "outputs": [],
   "source": [
    "sns.stripplot(x = 'Species', y = 'sepal_length', data = iris, hue = 'Site')\n",
    "plt.legend(loc = 'lower center');"
   ]
  },
  {
   "cell_type": "code",
   "execution_count": null,
   "id": "085b21cb",
   "metadata": {},
   "outputs": [],
   "source": [
    "sns.stripplot(x = 'Species', y = 'sepal_length', data = iris, hue = 'Site')\n",
    "plt.legend(title = 'Site', fontsize = 12, title_fontsize = 15);"
   ]
  },
  {
   "cell_type": "code",
   "execution_count": null,
   "id": "5d485015",
   "metadata": {},
   "outputs": [],
   "source": [
    "sns.stripplot(x = 'Species', y = 'sepal_length', data = iris, hue = 'Site')\n",
    "plt.legend(frameon = False);"
   ]
  },
  {
   "cell_type": "code",
   "execution_count": null,
   "id": "95109658",
   "metadata": {},
   "outputs": [],
   "source": [
    "sns.stripplot(x = 'Species', y = 'sepal_length', data = iris, hue = 'Site')\n",
    "plt.legend(ncol = 2);"
   ]
  },
  {
   "cell_type": "code",
   "execution_count": null,
   "id": "4d6f36c0",
   "metadata": {},
   "outputs": [],
   "source": [
    "sns.stripplot(x = 'Species', y = 'sepal_length', data = iris, hue = 'Site')\n",
    "plt.legend(markerfirst = False);"
   ]
  },
  {
   "cell_type": "code",
   "execution_count": null,
   "id": "2e9b021a",
   "metadata": {},
   "outputs": [],
   "source": [
    "sns.stripplot(x = 'Species', y = 'sepal_length', data = iris, hue = 'Site', legend = False);"
   ]
  },
  {
   "cell_type": "markdown",
   "id": "ed82fe70",
   "metadata": {},
   "source": [
    "## Saving plots\n",
    "\n",
    "Once we have created a nice, customised plot, we might want to save it so that we can import it into our manuscript. To do this, we can use the `plt.savefig()` command. Run the code below and then check to see that the plot has saved as an image file in your working directory (i.e. where this notebook is saved)."
   ]
  },
  {
   "cell_type": "code",
   "execution_count": null,
   "id": "84817a63",
   "metadata": {},
   "outputs": [],
   "source": [
    "sns.relplot(x = 'sepal_length', y = 'petal_length', data = iris, hue = 'Site', height = 6, aspect = 1.2)\n",
    "plt.savefig('plot.png')"
   ]
  },
  {
   "attachments": {
    "bird-7644272_640.jpg": {
     "image/jpeg": "[encoded data removed]"
    }
   },
   "cell_type": "markdown",
   "id": "df38d3c8",
   "metadata": {},
   "source": [
    "## Some practice\n",
    "\n",
    "&nbsp;\n",
    "<div>\n",
    "<img src=\"attachment:bird-7644272_640.jpg\" width='50%' title=\"\"/>\n",
    "</div>\n",
    "&nbsp;\n",
    "\n",
    "We'll now practice some of these techniques using a dataset of morphological traits of Darwin's finches (Genus: *Geospiza*). The data come from the paper entitled 'Issues and perspectives in species delimitation using phenotypic data: Atlantean evolution in Darwin’s finches' in which the authors propose a new taxonomy of the group - splitting the existing six species into nine.\n",
    "\n",
    "First, load the CAS_Swarth_Geospiza.csv dataset from the Datasets folder. Call it finch. Then use `finch.head()` to check it has loaded correctly."
   ]
  },
  {
   "cell_type": "code",
   "execution_count": null,
   "id": "f5607e4c",
   "metadata": {},
   "outputs": [],
   "source": []
  },
  {
   "cell_type": "code",
   "execution_count": null,
   "id": "adc94372",
   "metadata": {},
   "outputs": [],
   "source": []
  },
  {
   "cell_type": "markdown",
   "id": "01ce593b",
   "metadata": {},
   "source": [
    "Find out how many rows and columns the dataset has using `finch.shape`."
   ]
  },
  {
   "cell_type": "code",
   "execution_count": null,
   "id": "44872541",
   "metadata": {},
   "outputs": [],
   "source": []
  },
  {
   "cell_type": "markdown",
   "id": "868393fd",
   "metadata": {},
   "source": [
    "Find out how many males and females are included in the dataset using the `value_counts()` method."
   ]
  },
  {
   "cell_type": "code",
   "execution_count": null,
   "id": "5ee28f8f",
   "metadata": {},
   "outputs": [],
   "source": []
  },
  {
   "cell_type": "markdown",
   "id": "aa59bf56",
   "metadata": {},
   "source": [
    "Use the `value_counts()` method to confirm there are six species in the old taxonomy (column 'Taxon') and nine species in the new taxonomy (column 'New_Taxonomy'). "
   ]
  },
  {
   "cell_type": "code",
   "execution_count": null,
   "id": "032a0012",
   "metadata": {},
   "outputs": [],
   "source": []
  },
  {
   "cell_type": "code",
   "execution_count": null,
   "id": "e9ef1a73",
   "metadata": {},
   "outputs": [],
   "source": []
  },
  {
   "cell_type": "markdown",
   "id": "f4049640",
   "metadata": {},
   "source": [
    "Now let's start plotting. First, plot a pair plot of the dataset and colour it by 'New_Taxonomy'. It is a large dataset, so this might take a couple of minutes to run."
   ]
  },
  {
   "cell_type": "code",
   "execution_count": null,
   "id": "e65953bd",
   "metadata": {},
   "outputs": [],
   "source": []
  },
  {
   "cell_type": "markdown",
   "id": "15475cac",
   "metadata": {},
   "source": [
    "Now plot a histogram of the variable 'Wing' and colour it by 'New_Taxonomy'. Change the plot size so it is 8 inches wide and 6 inches high. Add a meaningful title to the plot and add '(mm)' to the x axis label."
   ]
  },
  {
   "cell_type": "code",
   "execution_count": null,
   "id": "0f7ba5c7",
   "metadata": {},
   "outputs": [],
   "source": []
  },
  {
   "cell_type": "markdown",
   "id": "6fcf7276",
   "metadata": {},
   "source": [
    "Plot a linear regression plot (`sns.lmplot`) of 'Wing' against 'Tail'. Make it 6 inches wide and 4 inches high. Change the colour palette to 'autumn'. Add a title and add units '(mm)' to each axis."
   ]
  },
  {
   "cell_type": "code",
   "execution_count": null,
   "id": "faa847ea",
   "metadata": {},
   "outputs": [],
   "source": []
  },
  {
   "cell_type": "markdown",
   "id": "8dac8e35",
   "metadata": {},
   "source": [
    "Now reset the colour palette to 'tab10'."
   ]
  },
  {
   "cell_type": "code",
   "execution_count": null,
   "id": "398c8a66",
   "metadata": {},
   "outputs": [],
   "source": []
  },
  {
   "cell_type": "markdown",
   "id": "e6d5886b",
   "metadata": {},
   "source": [
    "Plot a strip plot of 'Wing' by 'New_Taxonomy', coloured by 'Taxon'. Add a meaningful title and some units (mm) on the y axis. Make the x axis tick labels italic and rotate them 45 degrees (and add the argument `ha = 'right'` to ensure the labels are all alligned nicely). Finally, change the x axis label to 'new taxonomy' and the y axis label to 'wing length (mm)'."
   ]
  },
  {
   "cell_type": "code",
   "execution_count": null,
   "id": "8e181b06",
   "metadata": {},
   "outputs": [],
   "source": []
  },
  {
   "cell_type": "markdown",
   "id": "eca7a7af",
   "metadata": {},
   "source": [
    "## If you have time in class, or for homework...\n"
   ]
  },
  {
   "cell_type": "markdown",
   "id": "d89c0da6",
   "metadata": {},
   "source": [
    "Try making some other plots using the finch dataset. Experiment with:\n",
    "\n",
    "- Changing the style, scale and colour palette\n",
    "- Adding titles and editing the axes\n",
    "\n",
    "Try it with both axes-level and figure-level type plots, and with both single plots and multiple plots."
   ]
  },
  {
   "cell_type": "code",
   "execution_count": null,
   "id": "65e724fa",
   "metadata": {},
   "outputs": [],
   "source": []
  }
 ],
 "metadata": {
  "kernelspec": {
   "display_name": "Python 3 (ipykernel)",
   "language": "python",
   "name": "python3"
  },
  "language_info": {
   "codemirror_mode": {
    "name": "ipython",
    "version": 3
   },
   "file_extension": ".py",
   "mimetype": "text/x-python",
   "name": "python",
   "nbconvert_exporter": "python",
   "pygments_lexer": "ipython3",
   "version": "3.9.13"
  }
 },
 "nbformat": 4,
 "nbformat_minor": 5
}
