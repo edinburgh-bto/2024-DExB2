{
 "cells": [
  {
   "cell_type": "markdown",
   "id": "10d03e30",
   "metadata": {},
   "source": [
    "### Plotting Problems and Practise\n",
    "\n",
    "Practise with matplotlib and seborn and some common problems"
   ]
  },
  {
   "cell_type": "code",
   "execution_count": null,
   "id": "418db4b6",
   "metadata": {},
   "outputs": [],
   "source": [
    "# Analysis modules\n",
    "import numpy as np\n",
    "import pandas as pd\n",
    "import matplotlib.pyplot as plt"
   ]
  },
  {
   "cell_type": "code",
   "execution_count": null,
   "id": "cbb47924",
   "metadata": {},
   "outputs": [],
   "source": [
    "! ls"
   ]
  },
  {
   "cell_type": "markdown",
   "id": "299dc062",
   "metadata": {},
   "source": [
    "### Seaborn and Matplotlib"
   ]
  },
  {
   "cell_type": "code",
   "execution_count": null,
   "id": "efed5757",
   "metadata": {},
   "outputs": [],
   "source": [
    "df = pd.read_csv('lengths.csv')"
   ]
  },
  {
   "cell_type": "code",
   "execution_count": null,
   "id": "c22a5d42",
   "metadata": {},
   "outputs": [],
   "source": [
    "df.head(3)"
   ]
  },
  {
   "cell_type": "code",
   "execution_count": null,
   "id": "686063ea",
   "metadata": {},
   "outputs": [],
   "source": [
    "# Create a scatter plot with a regression line using Matplotlib\n",
    "plt.scatter(df['Stamen_length'], df['Leaf_Length'])"
   ]
  },
  {
   "cell_type": "code",
   "execution_count": null,
   "id": "a7e16332",
   "metadata": {},
   "outputs": [],
   "source": [
    "# Create a scatter plot with a regression line using Matplotlib\n",
    "plt.scatter(df['Stamen_length'], df['Leaf_Length'])\n",
    "\n",
    "# Calculate the regression line\n",
    "slope, intercept = np.polyfit(df['Stamen_length'], df['Leaf_Length'], 1)\n",
    "\n",
    "# Plot the regression line\n",
    "plt.plot(df['Stamen_length'], slope * df['Stamen_length'] + intercept, color='red', label='Regression Line')\n"
   ]
  },
  {
   "cell_type": "code",
   "execution_count": null,
   "id": "3d7f23d0",
   "metadata": {},
   "outputs": [],
   "source": [
    "# Create a scatter plot with a regression line using Matplotlib\n",
    "plt.scatter(df['Stamen_length'], df['Leaf_Length'])\n",
    "\n",
    "# Calculate the regression line\n",
    "slope, intercept = np.polyfit(df['Stamen_length'], df['Leaf_Length'], 1)\n",
    "\n",
    "# Plot the regression line\n",
    "plt.plot(df['Stamen_length'], slope * df['Stamen_length'] + intercept, color='red', label='Regression Line')\n",
    "\n",
    "plt.title('Scatter Plot with Linear Regression Line (Matplotlib)')\n",
    "plt.xlabel('Stamen length (mm)')\n",
    "plt.ylabel('Leaf length (mm)')\n",
    "plt.legend()\n",
    "plt.show()"
   ]
  },
  {
   "cell_type": "code",
   "execution_count": null,
   "id": "8ea44461",
   "metadata": {},
   "outputs": [],
   "source": [
    "import seaborn as sns"
   ]
  },
  {
   "cell_type": "code",
   "execution_count": null,
   "id": "13827e00",
   "metadata": {},
   "outputs": [],
   "source": [
    "# Create a scatter plot with a regression line using Seaborn\n",
    "sns.lmplot(x='Stamen_length', y='Leaf_Length', data=df);"
   ]
  },
  {
   "cell_type": "code",
   "execution_count": null,
   "id": "8609d124",
   "metadata": {},
   "outputs": [],
   "source": [
    "import warnings\n",
    "warnings.filterwarnings('ignore')"
   ]
  },
  {
   "cell_type": "markdown",
   "id": "416a3306",
   "metadata": {},
   "source": [
    "### Seaborn is quick, lovely, but not quite as flexible as matplotlib"
   ]
  },
  {
   "cell_type": "markdown",
   "id": "d0d6f0f1",
   "metadata": {},
   "source": [
    "### An example of flexibility in a matplotlib plot"
   ]
  },
  {
   "cell_type": "code",
   "execution_count": null,
   "id": "021f9348",
   "metadata": {},
   "outputs": [],
   "source": [
    "df = pd.read_csv('health.csv')"
   ]
  },
  {
   "cell_type": "markdown",
   "id": "3d4d09fa",
   "metadata": {},
   "source": [
    "Check what the data looks like"
   ]
  },
  {
   "cell_type": "code",
   "execution_count": null,
   "id": "ac9b335d",
   "metadata": {},
   "outputs": [],
   "source": [
    "df.head(3)"
   ]
  },
  {
   "cell_type": "markdown",
   "id": "1f5c18fa-8f4e-4d47-bcbe-fe1cb54ed59a",
   "metadata": {},
   "source": [
    "plot using matplot lib."
   ]
  },
  {
   "cell_type": "code",
   "execution_count": null,
   "id": "9b3c29b1-036b-4e01-8167-668260b9fa09",
   "metadata": {},
   "outputs": [],
   "source": [
    "plt.plot('days', 'health', data=df)"
   ]
  },
  {
   "cell_type": "markdown",
   "id": "67fc53d1-5d05-475d-8b66-3b81730c36ec",
   "metadata": {},
   "source": [
    "    [<matplotlib.lines.Line2D at 0x175b48e00>]  \n",
    "\n",
    "is a matplotlib object.  \n",
    "\n",
    "If we want to see just the plot we can use \n",
    "\n",
    "    plt.show()\n",
    "    \n",
    "or end the line with \";\"\n",
    "\n",
    "Depending on your settings, sometimes the plots does not show up properly in the notebook.  This is often solved with:\n",
    "\n",
    "    %matplotlib inline"
   ]
  },
  {
   "cell_type": "code",
   "execution_count": null,
   "id": "90906934-5048-4a77-afc4-529dd0238e72",
   "metadata": {},
   "outputs": [],
   "source": [
    "plt.plot('days', 'health', data=df)\n",
    "plt.show()"
   ]
  },
  {
   "cell_type": "code",
   "execution_count": null,
   "id": "3920741b",
   "metadata": {},
   "outputs": [],
   "source": [
    "plt.plot('days', 'health', data=df);"
   ]
  },
  {
   "cell_type": "markdown",
   "id": "44eb6a40-3f39-4874-9f95-ff30ad8c8e5a",
   "metadata": {},
   "source": [
    "We need to add labels, this is easy enough - just add the two lines of code."
   ]
  },
  {
   "cell_type": "code",
   "execution_count": null,
   "id": "8a1e4d6f-4755-4cea-a6d0-8cdf468ef1be",
   "metadata": {},
   "outputs": [],
   "source": [
    "plt.plot('days', 'health', data=df)\n",
    "plt.xlabel('Days tracked')\n",
    "plt.ylabel('My estimated health (arbitrary scale)')\n",
    "plt.show()"
   ]
  },
  {
   "cell_type": "markdown",
   "id": "7080dd7a-d4e3-4431-8ffc-bfb20cae8375",
   "metadata": {},
   "source": [
    "To get fancier we have to define the figure space, then we can change it's shape and add more information."
   ]
  },
  {
   "cell_type": "markdown",
   "id": "6645a189",
   "metadata": {},
   "source": [
    "Define a figure space, \n",
    "    \n",
    "    fig = plt.figure()  \n",
    "        \n",
    "put in some axes,  defining the [left, bottom, width, height] of the axes as fractions of figure width and height.  These will set the plot at the bottom left hand corner of the space, and make it the full width of the space and half as tall as the space.\n",
    "\n",
    "    ax = fig.add_axes((0, 0, 1, 0.5))  \n",
    "    \n"
   ]
  },
  {
   "cell_type": "code",
   "execution_count": null,
   "id": "acf623f8-c447-4476-bb55-b8d68f0bb51e",
   "metadata": {},
   "outputs": [],
   "source": [
    "fig = plt.figure() \n",
    "ax = fig.add_axes((0, 0, 1, 0.5)) "
   ]
  },
  {
   "cell_type": "markdown",
   "id": "fb3ee2e6",
   "metadata": {},
   "source": [
    "Bigger"
   ]
  },
  {
   "cell_type": "code",
   "execution_count": null,
   "id": "d4a6234b-f33d-49fd-ae7d-61e24ac51c5a",
   "metadata": {},
   "outputs": [],
   "source": [
    "fig = plt.figure() \n",
    "ax = fig.add_axes((0, 0, 2, 2)) "
   ]
  },
  {
   "cell_type": "markdown",
   "id": "4fa75561",
   "metadata": {},
   "source": [
    "Smaller"
   ]
  },
  {
   "cell_type": "code",
   "execution_count": null,
   "id": "e34dd70e",
   "metadata": {},
   "outputs": [],
   "source": [
    "fig = plt.figure() \n",
    "ax = fig.add_axes((0, 0, 0.5, 0.5)) "
   ]
  },
  {
   "cell_type": "markdown",
   "id": "c55abd8c",
   "metadata": {},
   "source": [
    "Add the data and labels"
   ]
  },
  {
   "cell_type": "code",
   "execution_count": null,
   "id": "42ae501b",
   "metadata": {},
   "outputs": [],
   "source": [
    "fig = plt.figure() \n",
    "# change the size of the figure you're plotting on\n",
    "ax = fig.add_axes((0, 0, 1, 0.5)) \n",
    "# plot the data\n",
    "ax.plot('days', 'health', data=df)\n",
    "# add labels for the axes on the plot\n",
    "plt.xlabel('days')\n",
    "plt.ylabel('health')\n",
    "# change limits of axes on the figure space\n",
    "ax.set_ylim([-30, 10])\n",
    "plt.show()"
   ]
  },
  {
   "cell_type": "markdown",
   "id": "462192b3",
   "metadata": {},
   "source": [
    "x and y labels belong to the plot  plt.  \n",
    "limits on the axes belong to the figure ax.  \n",
    "You'll get an error if you assign these wrongly. "
   ]
  },
  {
   "cell_type": "code",
   "execution_count": null,
   "id": "5548fc62",
   "metadata": {},
   "outputs": [],
   "source": [
    "fig = plt.figure() \n",
    "# change the size of the figure you're plotting on\n",
    "ax = fig.add_axes((0, 0, 1, 0.5)) \n",
    "# plot the data\n",
    "ax.plot('days', 'health', data=df)\n",
    "# add labels for the axes on the plot\n",
    "plt.xlabel('days')\n",
    "plt.ylabel('health')\n",
    "# change limits of axes on the figure space\n",
    "plt.set_ylim([-30, 10])\n",
    "plt.show()"
   ]
  },
  {
   "cell_type": "markdown",
   "id": "73142e72",
   "metadata": {},
   "source": [
    "#### Adding text to the figure. \n",
    "\n",
    "Labeling your x and y axes on the plot with plt.xlabel() and plt.ylabel() is easy, so no excuse to miss this!  There is another way of doing it by setting the labels on the figure, ax:\n",
    "\n",
    "    ax.set_xlabel('x axis label')\n",
    "    \n",
    "    ax.set_ylabel('y axis label')\n",
    "    \n",
    "The title is set with fig.text. setting location on the x and y axis, a string for the text, and positon on the horizontal (center, left or right)\n",
    "\n",
    "    fig.text(0.5, 0.05, 'Title', ha='center')\n",
    "    \n",
    "You can also annotate the graph with a string, giving postion of the point, arrow type, and poistion of the text\n",
    "\n",
    "    ax.annotate('text on graph',\n",
    "        xy=(70, 1), arrowprops=dict(arrowstyle='->'), xytext=(15, -10))\n",
    "\n",
    "include \\n in the text for line breaks\n",
    "        \n",
    "       "
   ]
  },
  {
   "cell_type": "markdown",
   "id": "818c699d",
   "metadata": {},
   "source": [
    "In-figure text belongs to the figure and is controlled by fig.text"
   ]
  },
  {
   "cell_type": "code",
   "execution_count": null,
   "id": "dd1b3b4c-10e4-47fe-ba49-14b09383c535",
   "metadata": {},
   "outputs": [],
   "source": [
    "#define the plot space\n",
    "fig = plt.figure() \n",
    "#set up axes\n",
    "ax = fig.add_axes((0, 0, 1, 0.5)) \n",
    "#plot the data\n",
    "ax.plot('days', 'health', data=df)\n",
    "#add x axis\n",
    "plt.xlabel('days')\n",
    "#add y axiss\n",
    "plt.ylabel('health')\n",
    "#set y axis limits\n",
    "ax.set_ylim([-30, 10])\n",
    "#add a title under the plot\n",
    "fig.text(0.5, 0.05, 'Stove ownership', ha='center')\n",
    "#add a label into the plot\n",
    "ax.annotate('The day I realised \\nI could cook bacon \\nwhenever I wanted',\n",
    "        xy=(70, 1), arrowprops=dict(arrowstyle='->'), xytext=(15, -10));\n"
   ]
  },
  {
   "cell_type": "markdown",
   "id": "894ad447",
   "metadata": {},
   "source": [
    "#### Styles"
   ]
  },
  {
   "cell_type": "code",
   "execution_count": null,
   "id": "dfc123e0",
   "metadata": {},
   "outputs": [],
   "source": [
    "from matplotlib import style"
   ]
  },
  {
   "cell_type": "code",
   "execution_count": null,
   "id": "8eff1eab-9f37-489d-8fc3-4926e614f740",
   "metadata": {},
   "outputs": [],
   "source": [
    "plt.style.available"
   ]
  },
  {
   "cell_type": "code",
   "execution_count": null,
   "id": "4f53e7b6-859b-4b81-ad29-9f091cca075b",
   "metadata": {},
   "outputs": [],
   "source": [
    "plt.rcdefaults()"
   ]
  },
  {
   "cell_type": "code",
   "execution_count": null,
   "id": "ec1daf67",
   "metadata": {},
   "outputs": [],
   "source": [
    "#set the style\n",
    "plt.style.use('classic') \n",
    "#plt.xkcd()\n",
    "#define the plot space\n",
    "fig = plt.figure() \n",
    "#set up axes\n",
    "ax = fig.add_axes((0, 0, 1, 0.5)) \n",
    "#plot the data\n",
    "ax.plot('days', 'health', data=df)\n",
    "#add x axis\n",
    "plt.xlabel('days')\n",
    "#add y axiss\n",
    "plt.ylabel('health')\n",
    "#set y axis limits\n",
    "ax.set_ylim([-30, 10])\n",
    "#add a title under the plot\n",
    "fig.text(0.5, 0.05, 'Stove ownership', ha='center')\n",
    "#add a label into the plot\n",
    "ax.annotate('The day I realised \\nI could cook bacon \\nwhenever I wanted',\n",
    "        xy=(70, 1), arrowprops=dict(arrowstyle='->'), xytext=(15, -10));"
   ]
  },
  {
   "cell_type": "markdown",
   "id": "a7f6c102",
   "metadata": {},
   "source": [
    "To return the plotting parameters to normal use:\n",
    "\n",
    "    plt.rcdefaults()"
   ]
  },
  {
   "cell_type": "markdown",
   "id": "dbb13357",
   "metadata": {},
   "source": [
    "### Saving plots"
   ]
  },
  {
   "cell_type": "markdown",
   "id": "4b59f498",
   "metadata": {},
   "source": [
    "You can save your plot to file using:\n",
    "\n",
    "    plt.savefig('title of file')\n",
    "   \n",
    "There are many parameters you can play with"
   ]
  },
  {
   "cell_type": "code",
   "execution_count": null,
   "id": "d50ace60",
   "metadata": {},
   "outputs": [],
   "source": [
    "#set the style\n",
    "plt.xkcd()\n",
    "#define the plot space\n",
    "fig = plt.figure() \n",
    "#set up axes\n",
    "ax = fig.add_axes((0, 0, 1, 0.5)) \n",
    "#plot the data\n",
    "ax.plot('days', 'health', data=df)\n",
    "#add x axis\n",
    "plt.xlabel('days')\n",
    "#add y axiss\n",
    "plt.ylabel('health')\n",
    "#set y axis limits\n",
    "ax.set_ylim([-30, 10])\n",
    "#add a title under the plot\n",
    "fig.text(0.5, 0.05, 'Stove ownership', ha='center')\n",
    "#add a label into the plot\n",
    "ax.annotate('The day I realised \\nI could cook bacon \\nwhenever I wanted',\n",
    "        xy=(70, 1), arrowprops=dict(arrowstyle='->'), xytext=(15, -10));\n",
    "plt.savefig(\"my_plot3.pdf\", transparent=True, bbox_inches='tight')"
   ]
  },
  {
   "cell_type": "code",
   "execution_count": null,
   "id": "878c01f2",
   "metadata": {},
   "outputs": [],
   "source": [
    "! ls"
   ]
  },
  {
   "cell_type": "markdown",
   "id": "6ac96829-74c2-4a2e-919e-39a5a38b3790",
   "metadata": {},
   "source": [
    "### Using a richer dataset to show what matplotlib can do"
   ]
  },
  {
   "cell_type": "code",
   "execution_count": null,
   "id": "1b40e0c8-6327-4f90-bb0e-37f8e4d70237",
   "metadata": {},
   "outputs": [],
   "source": [
    "seedling = pd.read_csv('Seedling.csv')"
   ]
  },
  {
   "cell_type": "code",
   "execution_count": null,
   "id": "6caa8010-953f-4162-9ded-d83e7e05cfca",
   "metadata": {},
   "outputs": [],
   "source": [
    "seedling.head(3)"
   ]
  },
  {
   "cell_type": "markdown",
   "id": "369bc7b1-3692-4710-9e25-7c9f2c91f4b8",
   "metadata": {},
   "source": [
    "Control the colour of the points by scale with:  \n",
    "\n",
    "    c=''  \n",
    "    \n",
    "Control the size of points by scale with:  \n",
    "\n",
    "    s=''  \n",
    "\n",
    "These can be absolute, or you can set them to a colum and show variation"
   ]
  },
  {
   "cell_type": "markdown",
   "id": "221eeaad-f1b6-469e-953b-2660a678a585",
   "metadata": {},
   "source": [
    "This might be best displayed as 3 plots within the same figure"
   ]
  },
  {
   "cell_type": "code",
   "execution_count": null,
   "id": "388ccbc8-a8d9-4a4a-acd8-9f78ac0abe9c",
   "metadata": {},
   "outputs": [],
   "source": [
    "fig, axes = plt.subplots(3, 1, figsize=(10, 5),sharex=True)\n",
    "\n",
    "axes[0].plot('Days_post_gemination', 'LRR_TPM', c='green',  data=seedling);\n",
    "axes[0].set_ylabel(\"LRR_TPM\")\n",
    "axes[1].plot('Days_post_gemination', 'GCN_TPM', c='blue',   data=seedling);\n",
    "axes[1].set_ylabel(\"GCN_TPM\")\n",
    "axes[2].scatter('Days_post_gemination', 'Leaf_area', c='red', s='GCN_TPM', data=seedling);\n",
    "axes[2].set_ylabel(\"Leaf Area (mm2)\")\n",
    "\n",
    "plt.show()\n"
   ]
  },
  {
   "cell_type": "code",
   "execution_count": null,
   "id": "1b538fd8",
   "metadata": {},
   "outputs": [],
   "source": [
    "  plt.rcdefaults()"
   ]
  },
  {
   "cell_type": "code",
   "execution_count": null,
   "id": "b07956a3",
   "metadata": {},
   "outputs": [],
   "source": []
  },
  {
   "cell_type": "markdown",
   "id": "2c82ff6e",
   "metadata": {},
   "source": [
    "Use Seaborn if you can as it's easy and tends to make nice plots,  but some things require Matplotlib"
   ]
  },
  {
   "cell_type": "code",
   "execution_count": null,
   "id": "6bb15515",
   "metadata": {},
   "outputs": [],
   "source": []
  }
 ],
 "metadata": {
  "kernelspec": {
   "display_name": "Python 3 (ipykernel)",
   "language": "python",
   "name": "python3"
  },
  "language_info": {
   "codemirror_mode": {
    "name": "ipython",
    "version": 3
   },
   "file_extension": ".py",
   "mimetype": "text/x-python",
   "name": "python",
   "nbconvert_exporter": "python",
   "pygments_lexer": "ipython3",
   "version": "3.8.13"
  }
 },
 "nbformat": 4,
 "nbformat_minor": 5
}
