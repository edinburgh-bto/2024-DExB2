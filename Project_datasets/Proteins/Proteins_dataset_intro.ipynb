{
 "cells": [
  {
   "cell_type": "markdown",
   "id": "5a246270",
   "metadata": {},
   "source": [
    "# Protein dataset\n",
    "\n",
    "This dataset has been obtained from the protein data bank (https://www.rcsb.org/) where you can search for and collate data on a selection or all structures within the database. The first dataset contains selected information from all structures within the database (as of 1st july 2023) and primarily summarises the data quality and some basic information about each structure. More data can be added. Gaining insight into this can allow us to gain an idea of how data has changed.\n",
    "\n",
    "Setting up the basic analysis environment"
   ]
  },
  {
   "cell_type": "code",
   "execution_count": null,
   "id": "4300aef9",
   "metadata": {},
   "outputs": [],
   "source": [
    "#import variuos models we might need\n",
    "import numpy as np\n",
    "import pandas as pd\n",
    "import matplotlib as mpl\n",
    "import matplotlib.pyplot as plt\n",
    "import seaborn as sns\n",
    "import scipy\n",
    "import statsmodels.api as sm\n",
    "import json\n",
    "np.set_printoptions(precision=5, suppress=True)  # suppress scientific floatation \n",
    "sns.set(color_codes=True)\n",
    "%matplotlib inline\n",
    "pd.set_option('display.max_columns', 500)\n",
    "pd.set_option('display.max_rows', 500)\n",
    "import os"
   ]
  },
  {
   "cell_type": "markdown",
   "id": "f4142c8c",
   "metadata": {},
   "source": [
    "# Read in the first dataset."
   ]
  },
  {
   "cell_type": "code",
   "execution_count": null,
   "id": "c46a287c",
   "metadata": {},
   "outputs": [],
   "source": [
    "# Read the CSV file into a DataFrame\n",
    "file_path = './datacollection_keep_data.csv'  # Replace with the actual path to your CSV file\n",
    "data_df = pd.read_csv(file_path)"
   ]
  },
  {
   "cell_type": "code",
   "execution_count": null,
   "id": "53561cda",
   "metadata": {},
   "outputs": [],
   "source": [
    "# What types of data do we have\n",
    "data_df.dtypes"
   ]
  },
  {
   "cell_type": "markdown",
   "id": "4516a6ea",
   "metadata": {},
   "source": [
    "# What do these things mean?\n",
    "See supplementary Glossary of terms found in the proteins data set file."
   ]
  },
  {
   "cell_type": "code",
   "execution_count": null,
   "id": "bf054b8f",
   "metadata": {},
   "outputs": [],
   "source": [
    "data_df.head()"
   ]
  },
  {
   "cell_type": "code",
   "execution_count": null,
   "id": "426045cb",
   "metadata": {},
   "outputs": [],
   "source": [
    "data_df"
   ]
  },
  {
   "cell_type": "markdown",
   "id": "14a75784",
   "metadata": {},
   "source": [
    "So there is 208831 individual structures and 23 columns of information for each.\n",
    "A simple starting point might be to see how things have changed with time.\n",
    "\n",
    "How has releases to the pdb changed with time?\n",
    "\n",
    "Try to plot the total Entry IDs by year."
   ]
  },
  {
   "cell_type": "code",
   "execution_count": null,
   "id": "fe71954c",
   "metadata": {},
   "outputs": [],
   "source": [
    "yearly_counts = data_df.groupby(\"Release Year\")[\"Entry ID\"].count()\n",
    "\n",
    "# Creating the histogram\n",
    "plt.figure(figsize=(10, 6))\n",
    "sns.barplot(x = yearly_counts.index, y = yearly_counts.values, color = 'blue')\n",
    "plt.xlabel(\"Release Year\")\n",
    "plt.ylabel(\"Total Entry ID Counts\")\n",
    "plt.title(\"Total Entry ID Counts per Release Year\")\n",
    "plt.xticks(rotation=45)\n",
    "plt.tight_layout()\n",
    "plt.show()"
   ]
  },
  {
   "cell_type": "markdown",
   "id": "63739ccb",
   "metadata": {},
   "source": [
    "Conclusion - there has been a year on year increase of pdb releases. The value is less for the current year as it is not finished\n",
    "\n",
    "Perhaps the plot could be made to look nicer."
   ]
  },
  {
   "cell_type": "code",
   "execution_count": null,
   "id": "d4c7e420",
   "metadata": {},
   "outputs": [],
   "source": [
    "# Creating the histogram with a smooth trendline using Seaborn\n",
    "plt.figure(figsize=(10, 6))\n",
    "sns.regplot(x=yearly_counts.index, y=yearly_counts.values, lowess=True, line_kws={'color': 'red'})\n",
    "plt.xlabel(\"Release Year\")\n",
    "plt.ylabel(\"Total Entry ID Counts\")\n",
    "plt.title(\"Total Entry ID Counts per Release Year\")\n",
    "plt.xticks(rotation=45)\n",
    "\n",
    "plt.tight_layout()\n",
    "plt.show()"
   ]
  },
  {
   "cell_type": "markdown",
   "id": "5f3ceb65",
   "metadata": {},
   "source": [
    "# Can this be broken down in more detail?\n",
    "Lets have a look at the number of released structures per year per experimental method.\n"
   ]
  },
  {
   "cell_type": "code",
   "execution_count": null,
   "id": "34bce8f1",
   "metadata": {},
   "outputs": [],
   "source": [
    "#What are the counts for each experimental method?\n",
    "data_df[\"Experimental Method\"].value_counts()"
   ]
  },
  {
   "cell_type": "markdown",
   "id": "2399a03f",
   "metadata": {},
   "source": [
    "X-ray diffractionis by far the most. \n",
    "How many structures from each experimental method are released each year."
   ]
  },
  {
   "cell_type": "code",
   "execution_count": null,
   "id": "47960334",
   "metadata": {},
   "outputs": [],
   "source": [
    "# try a single plot\n",
    "# Create a single histogram with different colors for each experimental method\n",
    "sns.displot(data=data_df, x=\"Release Year\", hue=\"Experimental Method\", kde=True)"
   ]
  },
  {
   "cell_type": "markdown",
   "id": "8b9daadd",
   "metadata": {},
   "source": [
    "Does appear to show changes in Experimental method over time. Can it be made clearer\n",
    "Lets try a different way of grouping and plotting"
   ]
  },
  {
   "cell_type": "code",
   "execution_count": null,
   "id": "2244797a",
   "metadata": {},
   "outputs": [],
   "source": [
    "#Use groupby to create a new dataframe containing each method per year and counts for it.\n",
    "method_counts = data_df.groupby([\"Release Year\", \"Experimental Method\"]).size().reset_index(name=\"Count\")"
   ]
  },
  {
   "cell_type": "code",
   "execution_count": null,
   "id": "c08f55db",
   "metadata": {},
   "outputs": [],
   "source": [
    "method_counts.head()"
   ]
  },
  {
   "cell_type": "code",
   "execution_count": null,
   "id": "736b7d4c",
   "metadata": {},
   "outputs": [],
   "source": [
    "#Create a line plot for the experimental methods with year.\n",
    "plt.figure(figsize=(10, 6))\n",
    "sns.lineplot(data=method_counts, x=\"Release Year\", y=\"Count\", hue=\"Experimental Method\", marker=\"o\")\n",
    "plt.xlabel(\"Release Year\")\n",
    "plt.ylabel(\"Count\")\n",
    "plt.title(\"Count of Experimental Methods per Release Year\")\n",
    "plt.xticks(rotation=45)\n",
    "plt.legend(title=\"Experimental Method\")\n",
    "\n",
    "plt.tight_layout()\n",
    "plt.show()"
   ]
  },
  {
   "cell_type": "markdown",
   "id": "bf54f2de",
   "metadata": {},
   "source": [
    "Only 3 methods show much variation.\n",
    "\n",
    "From earlier the top 3 Experimental methods are; \n",
    "\n",
    "X-RAY DIFFRACTION                                            177588, \n",
    "ELECTRON MICROSCOPY                                           16426, \n",
    "SOLUTION NMR                                                  13913\n",
    "\n",
    "Lets plot the top 3 methods in terms of number of releases for each year.\n"
   ]
  },
  {
   "cell_type": "code",
   "execution_count": null,
   "id": "f245500c",
   "metadata": {},
   "outputs": [],
   "source": [
    "# Get the top 3 methods for each year using the earlier methods_counts dataframe\n",
    "top_methods = method_counts.groupby(\"Release Year\").apply(lambda x: x.nlargest(3, \"Count\")).reset_index(drop=True)"
   ]
  },
  {
   "cell_type": "code",
   "execution_count": null,
   "id": "87732a01",
   "metadata": {},
   "outputs": [],
   "source": [
    "top_methods.head()"
   ]
  },
  {
   "cell_type": "code",
   "execution_count": null,
   "id": "7d9d867e",
   "metadata": {},
   "outputs": [],
   "source": [
    "#redo the plot with the new top_methods dataframe\n",
    "# Create a single combined line plot for the top 4 methods\n",
    "plt.figure(figsize=(10, 6))\n",
    "sns.lineplot(data=top_methods, x=\"Release Year\", y=\"Count\", hue=\"Experimental Method\", marker=\"o\")\n",
    "plt.xlabel(\"Release Year\")\n",
    "plt.ylabel(\"Count\")\n",
    "plt.title(\"Top 3 Experimental Methods per Release Year\")\n",
    "plt.xticks(rotation=45)\n",
    "plt.legend(title=\"Experimental Method\")\n",
    "plt.tight_layout()\n",
    "plt.show()"
   ]
  },
  {
   "cell_type": "markdown",
   "id": "498f9fdf",
   "metadata": {},
   "source": [
    "That is much clearer. For tidieness remove the data for 2023 owing to it being incomplete"
   ]
  },
  {
   "cell_type": "code",
   "execution_count": null,
   "id": "6bad6d39",
   "metadata": {},
   "outputs": [],
   "source": [
    "# Exclude data for the year 2023\n",
    "top_methods_no2023 = top_methods[top_methods[\"Release Year\"] != 2023]"
   ]
  },
  {
   "cell_type": "code",
   "execution_count": null,
   "id": "c26971e9",
   "metadata": {},
   "outputs": [],
   "source": [
    "# Create a single combined line plot for the top 4 methods\n",
    "plt.figure(figsize=(10, 6))\n",
    "sns.lineplot(data=top_methods_no2023, x=\"Release Year\", y=\"Count\", hue=\"Experimental Method\", marker=\"o\")\n",
    "plt.xlabel(\"Release Year\")\n",
    "plt.ylabel(\"Count\")\n",
    "plt.title(\"Top 3 Experimental Methods per Release Year (Excluding 2023)\")\n",
    "plt.xticks(rotation=45)\n",
    "plt.legend(title=\"Experimental Method\")\n",
    "plt.tight_layout()\n",
    "plt.show()"
   ]
  },
  {
   "cell_type": "markdown",
   "id": "d6e308b4",
   "metadata": {},
   "source": [
    "Much clearer.\n",
    "Conclusion the major methods for solving macormolecular structures has changed with time. \n",
    "X-ray diffraction has shown a steady increase since the 1990s but since about 2015 appears to be levelling off.\n",
    "Solution NMR had a steady increase in the 1990s and early 2000s after which it has shown a slow decline.\n",
    "Since about 2015 has shown a rapid increase in structures and is still growing.\n",
    "\n",
    "Can you explain the spike in structures from X-ray diffraction in 2020? "
   ]
  },
  {
   "cell_type": "markdown",
   "id": "0bd03a73",
   "metadata": {},
   "source": [
    "# What else could you find out using this data?\n",
    "\n",
    "Some things to consider\n",
    "\n",
    "Do the major methods of structure solution vary in terms of structures solved?\n",
    "\n",
    "Given improvements to technology how has the structures solved or data quality changed?\n",
    "\n",
    "What factors affect the number of, or presence of structural features, such as waters?\n",
    "\n",
    "Do larger structures have poorer quality?\n"
   ]
  },
  {
   "cell_type": "markdown",
   "id": "475359cf",
   "metadata": {},
   "source": [
    "# Protein dataset part 2\n",
    "The second dataset contains data obtained from the pdbsum database (http://www.ebi.ac.uk/thornton-srv/databases/pdbsum/)\n",
    "This database contains all the structures within the protein data bank but with addition analysis on each structure. This includes information for protein-protein interactions, protein-ligand interactions and in this case data for structures containing ions.\n",
    "\n",
    "The data supplied contains data obtained for each structure containing an ion and is a summary of the interactions each ion makes. An example for the source data can be found here http://www.ebi.ac.uk/thornton-srv/databases/cgi-bin/pdbsum/GetLigInt.pl?pdb=3f5m&ligtype=01&ligno=01&metal=TRUE for the structure https://www.rcsb.org/structure/3F5M. \n",
    "\n",
    "It was extracted using the script Metals_working_keep.ipynb\n",
    "\n",
    "The data was then combined into a single .csv file"
   ]
  },
  {
   "cell_type": "markdown",
   "id": "51769c40",
   "metadata": {},
   "source": [
    "# Read in the second dataset."
   ]
  },
  {
   "cell_type": "code",
   "execution_count": null,
   "id": "2eac9e17",
   "metadata": {},
   "outputs": [],
   "source": [
    "# Read the CSV file into a DataFrame\n",
    "file_path = './combined_metals_keep_data.csv'  # Replace with the actual path to your CSV file\n",
    "ions_df = pd.read_csv(file_path)"
   ]
  },
  {
   "cell_type": "code",
   "execution_count": null,
   "id": "4de92ade",
   "metadata": {},
   "outputs": [],
   "source": [
    "# What types of data do we have\n",
    "ions_df.dtypes"
   ]
  },
  {
   "cell_type": "markdown",
   "id": "81cd8fcd",
   "metadata": {},
   "source": [
    "# What do these things mean?\n",
    "See supplementary Glossary of terms found in the proteins data set file."
   ]
  },
  {
   "cell_type": "code",
   "execution_count": null,
   "id": "703ac7c2",
   "metadata": {},
   "outputs": [],
   "source": [
    "ions_df"
   ]
  },
  {
   "cell_type": "markdown",
   "id": "159b2c60",
   "metadata": {},
   "source": [
    "94843 different entries with 33 columns. You can see from PDB code 6p4d some structures contain more than one entry (more than one ion). You can also see that 6p4d contains NaN, why do you think this might be. How do you deal with it?\n",
    "\n",
    "You can compare the original data for 3f5m  http://www.ebi.ac.uk/thornton-srv/databases/cgi-bin/pdbsum/GetLigInt.pl?pdb=3f5m&ligtype=01&ligno=01&metal=TRUE with the extracted data."
   ]
  },
  {
   "cell_type": "code",
   "execution_count": null,
   "id": "5bbbc0ed",
   "metadata": {},
   "outputs": [],
   "source": [
    "# Assuming df is your DataFrame\n",
    "row_3f5m = ions_df[ions_df['PDB code'] == '3f5m']\n",
    "\n",
    "row_3f5m"
   ]
  },
  {
   "cell_type": "markdown",
   "id": "58f9e9ba",
   "metadata": {},
   "source": [
    "This structure contains 2 ions the second contains MG. If you wish to compare to the original data it can be found here http://www.ebi.ac.uk/thornton-srv/databases/cgi-bin/pdbsum/GetLigInt.pl?pdb=3f5m&ligtype=02&ligno=01&metal=TRUE"
   ]
  },
  {
   "cell_type": "markdown",
   "id": "492d2337",
   "metadata": {},
   "source": [
    "# What could you consider using this data?\n",
    "Some things you could consider\n",
    "\n",
    "Is the presence of ions is dependant on the resolution of the data.\n",
    "\n",
    "Do the standard deviations in the second data set vary with resolution\n",
    "\n",
    "Do the length of ion-protein interaction vary with the size of the ion.\n",
    "\n",
    "Is there variation in the amino acid environments around different ions.\n",
    "\n",
    "Cations are positively charged, they will interact with negatively chared amino acids.\n",
    "\n",
    "Anions are negatively charged, they will interact with positively charged amino acids.\n"
   ]
  },
  {
   "cell_type": "code",
   "execution_count": null,
   "id": "3561973a",
   "metadata": {},
   "outputs": [],
   "source": []
  }
 ],
 "metadata": {
  "kernelspec": {
   "display_name": "Python 3 (ipykernel)",
   "language": "python",
   "name": "python3"
  },
  "language_info": {
   "codemirror_mode": {
    "name": "ipython",
    "version": 3
   },
   "file_extension": ".py",
   "mimetype": "text/x-python",
   "name": "python",
   "nbconvert_exporter": "python",
   "pygments_lexer": "ipython3",
   "version": "3.9.13"
  }
 },
 "nbformat": 4,
 "nbformat_minor": 5
}
