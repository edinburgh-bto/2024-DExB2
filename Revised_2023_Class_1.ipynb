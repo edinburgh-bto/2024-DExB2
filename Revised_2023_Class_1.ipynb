{
 "cells": [
  {
   "cell_type": "markdown",
   "id": "f840ebfc",
   "metadata": {},
   "source": [
    "## Class 1\n",
    "Revising basics of pandas and seaborn  \n"
   ]
  },
  {
   "cell_type": "markdown",
   "id": "f0a881d5",
   "metadata": {},
   "source": [
    "### How reliable is your data?"
   ]
  },
  {
   "cell_type": "markdown",
   "id": "0d2658b5",
   "metadata": {},
   "source": [
    "Much has been made of a link between brain size and intelligence. We will test this by correalating head circumference with the marks in the warm-up quiz"
   ]
  },
  {
   "cell_type": "markdown",
   "id": "3e267c0f",
   "metadata": {},
   "source": [
    "### Method. \n",
    "Each group of 5 should have a tape measure.  \n",
    "Two people should each measure the heads of everyone in the group and everyone in the group beside you.  \n",
    "Wrap the tape measure around just above the ears.  \n",
    "Everyone will get measured 4 times.  Be fast!"
   ]
  },
  {
   "cell_type": "markdown",
   "id": "4edfd19d",
   "metadata": {},
   "source": [
    "### Data Entry. \n",
    "Make a python dataframe for your data from lists of Measurer, Group, Group-member, Head_diameter"
   ]
  },
  {
   "cell_type": "code",
   "execution_count": 1,
   "id": "3de5db29",
   "metadata": {},
   "outputs": [],
   "source": [
    "# Analysis modules\n",
    "import numpy as np\n",
    "import pandas as pd\n",
    "import matplotlib as mpl\n",
    "import matplotlib.pyplot as plt\n",
    "import seaborn as sns\n"
   ]
  },
  {
   "cell_type": "markdown",
   "id": "2514b20c",
   "metadata": {},
   "source": [
    "Enter your data into python lists.   Just replace the numbers and names here with your own. Here Charlie and Thu are the measurers from one group and Pakkapol and Xiao-feng from the other"
   ]
  },
  {
   "cell_type": "code",
   "execution_count": 12,
   "id": "3425b081",
   "metadata": {},
   "outputs": [],
   "source": [
    "Group_member = ['Aaron', 'Alice', 'Charlie', 'Thibauld', 'Thu', 'Pakkapol', 'Saima', 'Hillary', 'Faye', 'Xiao-feng']\n",
    "Charlie_tape = [56,58,51,55,52,50,54,53,58,57,]\n",
    "Thu_tape = [55,58,50,55,53,50,52,53,60,57,]\n",
    "Pakkapol_tape = [55,59,52,58,51,53,55,55,57,56]\n",
    "Xiaofeng_tape = [56,58,52,57,51,52,55,54,57,55]"
   ]
  },
  {
   "cell_type": "markdown",
   "id": "14f56c62",
   "metadata": {},
   "source": [
    "Combine lists into a dataframe"
   ]
  },
  {
   "cell_type": "code",
   "execution_count": 13,
   "id": "147ef047",
   "metadata": {},
   "outputs": [],
   "source": [
    "zipped = list(zip(Group_member, Charlie_tape, Thu_tape, Pakkapol_tape, Xiaofeng_tape ))\n",
    "df = pd.DataFrame(zipped, columns=['Head_measured', 'Charlie_tape', 'Thu_tape','Pakkapol_tape', 'Xiao-feng_tape'])"
   ]
  },
  {
   "cell_type": "markdown",
   "id": "781100f8",
   "metadata": {},
   "source": [
    "We now have a pandas dataframe.  It has an index running along the left hand, column names on the top.  There are useful functions for checking and summarising it."
   ]
  },
  {
   "cell_type": "markdown",
   "id": "1e1bc4b2",
   "metadata": {},
   "source": [
    "#### Check things look right"
   ]
  },
  {
   "cell_type": "code",
   "execution_count": 14,
   "id": "ba8a49c8",
   "metadata": {},
   "outputs": [
    {
     "data": {
      "text/plain": [
       "(10, 5)"
      ]
     },
     "execution_count": 14,
     "metadata": {},
     "output_type": "execute_result"
    }
   ],
   "source": [
    "df.shape"
   ]
  },
  {
   "cell_type": "code",
   "execution_count": 15,
   "id": "72f0c431",
   "metadata": {},
   "outputs": [
    {
     "data": {
      "text/html": [
       "<div>\n",
       "<style scoped>\n",
       "    .dataframe tbody tr th:only-of-type {\n",
       "        vertical-align: middle;\n",
       "    }\n",
       "\n",
       "    .dataframe tbody tr th {\n",
       "        vertical-align: top;\n",
       "    }\n",
       "\n",
       "    .dataframe thead th {\n",
       "        text-align: right;\n",
       "    }\n",
       "</style>\n",
       "<table border=\"1\" class=\"dataframe\">\n",
       "  <thead>\n",
       "    <tr style=\"text-align: right;\">\n",
       "      <th></th>\n",
       "      <th>Head_measured</th>\n",
       "      <th>Charlie_tape</th>\n",
       "      <th>Thu_tape</th>\n",
       "      <th>Pakkapol_tape</th>\n",
       "      <th>Xiao-feng_tape</th>\n",
       "    </tr>\n",
       "  </thead>\n",
       "  <tbody>\n",
       "    <tr>\n",
       "      <th>0</th>\n",
       "      <td>Aaron</td>\n",
       "      <td>56</td>\n",
       "      <td>55</td>\n",
       "      <td>55</td>\n",
       "      <td>56</td>\n",
       "    </tr>\n",
       "    <tr>\n",
       "      <th>1</th>\n",
       "      <td>Alice</td>\n",
       "      <td>58</td>\n",
       "      <td>58</td>\n",
       "      <td>59</td>\n",
       "      <td>58</td>\n",
       "    </tr>\n",
       "    <tr>\n",
       "      <th>2</th>\n",
       "      <td>Charlie</td>\n",
       "      <td>51</td>\n",
       "      <td>50</td>\n",
       "      <td>52</td>\n",
       "      <td>52</td>\n",
       "    </tr>\n",
       "  </tbody>\n",
       "</table>\n",
       "</div>"
      ],
      "text/plain": [
       "  Head_measured  Charlie_tape  Thu_tape  Pakkapol_tape  Xiao-feng_tape\n",
       "0         Aaron            56        55             55              56\n",
       "1         Alice            58        58             59              58\n",
       "2       Charlie            51        50             52              52"
      ]
     },
     "execution_count": 15,
     "metadata": {},
     "output_type": "execute_result"
    }
   ],
   "source": [
    "df.head(3)"
   ]
  },
  {
   "cell_type": "markdown",
   "id": "ebbbdd72",
   "metadata": {},
   "source": [
    "Summarising"
   ]
  },
  {
   "cell_type": "code",
   "execution_count": 16,
   "id": "ab10241b",
   "metadata": {},
   "outputs": [
    {
     "data": {
      "text/html": [
       "<div>\n",
       "<style scoped>\n",
       "    .dataframe tbody tr th:only-of-type {\n",
       "        vertical-align: middle;\n",
       "    }\n",
       "\n",
       "    .dataframe tbody tr th {\n",
       "        vertical-align: top;\n",
       "    }\n",
       "\n",
       "    .dataframe thead th {\n",
       "        text-align: right;\n",
       "    }\n",
       "</style>\n",
       "<table border=\"1\" class=\"dataframe\">\n",
       "  <thead>\n",
       "    <tr style=\"text-align: right;\">\n",
       "      <th></th>\n",
       "      <th>Charlie_tape</th>\n",
       "      <th>Thu_tape</th>\n",
       "      <th>Pakkapol_tape</th>\n",
       "      <th>Xiao-feng_tape</th>\n",
       "    </tr>\n",
       "  </thead>\n",
       "  <tbody>\n",
       "    <tr>\n",
       "      <th>count</th>\n",
       "      <td>10.000000</td>\n",
       "      <td>10.000</td>\n",
       "      <td>10.000000</td>\n",
       "      <td>10.000000</td>\n",
       "    </tr>\n",
       "    <tr>\n",
       "      <th>mean</th>\n",
       "      <td>54.400000</td>\n",
       "      <td>54.300</td>\n",
       "      <td>55.100000</td>\n",
       "      <td>54.700000</td>\n",
       "    </tr>\n",
       "    <tr>\n",
       "      <th>std</th>\n",
       "      <td>2.875181</td>\n",
       "      <td>3.335</td>\n",
       "      <td>2.558211</td>\n",
       "      <td>2.406011</td>\n",
       "    </tr>\n",
       "    <tr>\n",
       "      <th>min</th>\n",
       "      <td>50.000000</td>\n",
       "      <td>50.000</td>\n",
       "      <td>51.000000</td>\n",
       "      <td>51.000000</td>\n",
       "    </tr>\n",
       "    <tr>\n",
       "      <th>25%</th>\n",
       "      <td>52.250000</td>\n",
       "      <td>52.250</td>\n",
       "      <td>53.500000</td>\n",
       "      <td>52.500000</td>\n",
       "    </tr>\n",
       "    <tr>\n",
       "      <th>50%</th>\n",
       "      <td>54.500000</td>\n",
       "      <td>54.000</td>\n",
       "      <td>55.000000</td>\n",
       "      <td>55.000000</td>\n",
       "    </tr>\n",
       "    <tr>\n",
       "      <th>75%</th>\n",
       "      <td>56.750000</td>\n",
       "      <td>56.500</td>\n",
       "      <td>56.750000</td>\n",
       "      <td>56.750000</td>\n",
       "    </tr>\n",
       "    <tr>\n",
       "      <th>max</th>\n",
       "      <td>58.000000</td>\n",
       "      <td>60.000</td>\n",
       "      <td>59.000000</td>\n",
       "      <td>58.000000</td>\n",
       "    </tr>\n",
       "  </tbody>\n",
       "</table>\n",
       "</div>"
      ],
      "text/plain": [
       "       Charlie_tape  Thu_tape  Pakkapol_tape  Xiao-feng_tape\n",
       "count     10.000000    10.000      10.000000       10.000000\n",
       "mean      54.400000    54.300      55.100000       54.700000\n",
       "std        2.875181     3.335       2.558211        2.406011\n",
       "min       50.000000    50.000      51.000000       51.000000\n",
       "25%       52.250000    52.250      53.500000       52.500000\n",
       "50%       54.500000    54.000      55.000000       55.000000\n",
       "75%       56.750000    56.500      56.750000       56.750000\n",
       "max       58.000000    60.000      59.000000       58.000000"
      ]
     },
     "execution_count": 16,
     "metadata": {},
     "output_type": "execute_result"
    }
   ],
   "source": [
    "df.describe()"
   ]
  },
  {
   "cell_type": "markdown",
   "id": "6f234193",
   "metadata": {},
   "source": [
    "You can get just single statistics for each column.  This gives you the mean or max of the columns - for example, the biggest head Thu measured."
   ]
  },
  {
   "cell_type": "code",
   "execution_count": null,
   "id": "d840a264",
   "metadata": {},
   "outputs": [],
   "source": [
    "df.mean()"
   ]
  },
  {
   "cell_type": "code",
   "execution_count": null,
   "id": "e0273a26",
   "metadata": {},
   "outputs": [],
   "source": [
    "df.max()"
   ]
  },
  {
   "cell_type": "markdown",
   "id": "0e9fe363",
   "metadata": {},
   "source": [
    "Each column in the dataframe is a series.  This is a bit like a python list, but has an order, index and, like dataframes, there are functions to describe and summarise them.  A series can be called in different ways.  It can be assigned to a variable:"
   ]
  },
  {
   "cell_type": "code",
   "execution_count": 18,
   "id": "4f02d9f7",
   "metadata": {},
   "outputs": [],
   "source": [
    "P = df['Thu_tape']"
   ]
  },
  {
   "cell_type": "code",
   "execution_count": null,
   "id": "52bd77e3",
   "metadata": {},
   "outputs": [],
   "source": [
    "max(P)"
   ]
  },
  {
   "cell_type": "code",
   "execution_count": 22,
   "id": "de769a93",
   "metadata": {},
   "outputs": [
    {
     "data": {
      "text/plain": [
       "57"
      ]
     },
     "execution_count": 22,
     "metadata": {},
     "output_type": "execute_result"
    }
   ],
   "source": [
    "P.max()"
   ]
  },
  {
   "cell_type": "markdown",
   "id": "3a749a35",
   "metadata": {},
   "source": [
    "Or called directly within a function, either explictly:"
   ]
  },
  {
   "cell_type": "code",
   "execution_count": 23,
   "id": "0b33d9de",
   "metadata": {},
   "outputs": [
    {
     "data": {
      "text/plain": [
       "57"
      ]
     },
     "execution_count": 23,
     "metadata": {},
     "output_type": "execute_result"
    }
   ],
   "source": [
    "max(df['Thu_tape'])"
   ]
  },
  {
   "cell_type": "markdown",
   "id": "037f6c50",
   "metadata": {},
   "source": [
    "Or simply (if the column. name has no spaces, or odd characters)"
   ]
  },
  {
   "cell_type": "code",
   "execution_count": 24,
   "id": "a8195a61",
   "metadata": {},
   "outputs": [
    {
     "data": {
      "text/plain": [
       "57"
      ]
     },
     "execution_count": 24,
     "metadata": {},
     "output_type": "execute_result"
    }
   ],
   "source": [
    "max(df.Thu)"
   ]
  },
  {
   "cell_type": "markdown",
   "id": "eb775538",
   "metadata": {},
   "source": [
    "Other functions you can use to summarise a series:  \n",
    "    \n",
    "    P.min()\n",
    "    P.mean()\n",
    "    P.median()\n",
    "    P.std()\n",
    "    P.skew()\n",
    "    P.quantile(0.5)\n",
    "    P.nlargest(3)\n",
    "    P.sample(2)\n",
    "    P.head(3\n",
    "    P.value_counts()\n",
    "    \n",
    "    "
   ]
  },
  {
   "cell_type": "markdown",
   "id": "2cec2c32",
   "metadata": {},
   "source": [
    "### Do we have reliable measures?"
   ]
  },
  {
   "cell_type": "markdown",
   "id": "4fc18c13",
   "metadata": {},
   "source": [
    "Plot the measures against each other.  Does every measurer get the same result for each head?  Are some measurers measuring large, some small?"
   ]
  },
  {
   "cell_type": "code",
   "execution_count": 24,
   "id": "654b1fad",
   "metadata": {},
   "outputs": [
    {
     "data": {
      "text/plain": [
       "<seaborn.axisgrid.PairGrid at 0x7fafe87f72b0>"
      ]
     },
     "execution_count": 24,
     "metadata": {},
     "output_type": "execute_result"
    },
    {
     "data": {
      "image/png": "[encoded data removed]",
      "text/plain": [
       "<Figure size 1000x1000 with 20 Axes>"
      ]
     },
     "metadata": {},
     "output_type": "display_data"
    }
   ],
   "source": [
    "sns.pairplot(df, kind=\"reg\")"
   ]
  },
  {
   "cell_type": "code",
   "execution_count": null,
   "id": "f97fba6e",
   "metadata": {},
   "outputs": [],
   "source": [
    "To go along with the quiz data we need to get the average of all the measurements for each head.  Here's one way"
   ]
  },
  {
   "cell_type": "code",
   "execution_count": 26,
   "id": "b7819d7f",
   "metadata": {},
   "outputs": [],
   "source": [
    "df['Av_diameter'] = df[['Charlie_tape','Thu_tape', 'Pakkapol_tape', 'Xiao-feng_tape']].mean(axis=1)"
   ]
  },
  {
   "cell_type": "code",
   "execution_count": 28,
   "id": "c20963ec",
   "metadata": {},
   "outputs": [
    {
     "data": {
      "text/html": [
       "<div>\n",
       "<style scoped>\n",
       "    .dataframe tbody tr th:only-of-type {\n",
       "        vertical-align: middle;\n",
       "    }\n",
       "\n",
       "    .dataframe tbody tr th {\n",
       "        vertical-align: top;\n",
       "    }\n",
       "\n",
       "    .dataframe thead th {\n",
       "        text-align: right;\n",
       "    }\n",
       "</style>\n",
       "<table border=\"1\" class=\"dataframe\">\n",
       "  <thead>\n",
       "    <tr style=\"text-align: right;\">\n",
       "      <th></th>\n",
       "      <th>Head_measured</th>\n",
       "      <th>Charlie_tape</th>\n",
       "      <th>Thu_tape</th>\n",
       "      <th>Pakkapol_tape</th>\n",
       "      <th>Xiao-feng_tape</th>\n",
       "      <th>Av_diameter</th>\n",
       "    </tr>\n",
       "  </thead>\n",
       "  <tbody>\n",
       "    <tr>\n",
       "      <th>0</th>\n",
       "      <td>Aaron</td>\n",
       "      <td>56</td>\n",
       "      <td>55</td>\n",
       "      <td>55</td>\n",
       "      <td>56</td>\n",
       "      <td>55.50</td>\n",
       "    </tr>\n",
       "    <tr>\n",
       "      <th>1</th>\n",
       "      <td>Alice</td>\n",
       "      <td>58</td>\n",
       "      <td>58</td>\n",
       "      <td>59</td>\n",
       "      <td>58</td>\n",
       "      <td>58.25</td>\n",
       "    </tr>\n",
       "    <tr>\n",
       "      <th>2</th>\n",
       "      <td>Charlie</td>\n",
       "      <td>51</td>\n",
       "      <td>50</td>\n",
       "      <td>52</td>\n",
       "      <td>52</td>\n",
       "      <td>51.25</td>\n",
       "    </tr>\n",
       "    <tr>\n",
       "      <th>3</th>\n",
       "      <td>Thibauld</td>\n",
       "      <td>55</td>\n",
       "      <td>55</td>\n",
       "      <td>58</td>\n",
       "      <td>57</td>\n",
       "      <td>56.25</td>\n",
       "    </tr>\n",
       "    <tr>\n",
       "      <th>4</th>\n",
       "      <td>Thu</td>\n",
       "      <td>52</td>\n",
       "      <td>53</td>\n",
       "      <td>51</td>\n",
       "      <td>51</td>\n",
       "      <td>51.75</td>\n",
       "    </tr>\n",
       "    <tr>\n",
       "      <th>5</th>\n",
       "      <td>Pakkapol</td>\n",
       "      <td>50</td>\n",
       "      <td>50</td>\n",
       "      <td>53</td>\n",
       "      <td>52</td>\n",
       "      <td>51.25</td>\n",
       "    </tr>\n",
       "    <tr>\n",
       "      <th>6</th>\n",
       "      <td>Saima</td>\n",
       "      <td>54</td>\n",
       "      <td>52</td>\n",
       "      <td>55</td>\n",
       "      <td>55</td>\n",
       "      <td>54.00</td>\n",
       "    </tr>\n",
       "    <tr>\n",
       "      <th>7</th>\n",
       "      <td>Hillary</td>\n",
       "      <td>53</td>\n",
       "      <td>53</td>\n",
       "      <td>55</td>\n",
       "      <td>54</td>\n",
       "      <td>53.75</td>\n",
       "    </tr>\n",
       "    <tr>\n",
       "      <th>8</th>\n",
       "      <td>Faye</td>\n",
       "      <td>58</td>\n",
       "      <td>60</td>\n",
       "      <td>57</td>\n",
       "      <td>57</td>\n",
       "      <td>58.00</td>\n",
       "    </tr>\n",
       "    <tr>\n",
       "      <th>9</th>\n",
       "      <td>Xiao-feng</td>\n",
       "      <td>57</td>\n",
       "      <td>57</td>\n",
       "      <td>56</td>\n",
       "      <td>55</td>\n",
       "      <td>56.25</td>\n",
       "    </tr>\n",
       "  </tbody>\n",
       "</table>\n",
       "</div>"
      ],
      "text/plain": [
       "  Head_measured  Charlie_tape  Thu_tape  Pakkapol_tape  Xiao-feng_tape  \\\n",
       "0         Aaron            56        55             55              56   \n",
       "1         Alice            58        58             59              58   \n",
       "2       Charlie            51        50             52              52   \n",
       "3      Thibauld            55        55             58              57   \n",
       "4           Thu            52        53             51              51   \n",
       "5      Pakkapol            50        50             53              52   \n",
       "6         Saima            54        52             55              55   \n",
       "7       Hillary            53        53             55              54   \n",
       "8          Faye            58        60             57              57   \n",
       "9     Xiao-feng            57        57             56              55   \n",
       "\n",
       "   Av_diameter  \n",
       "0        55.50  \n",
       "1        58.25  \n",
       "2        51.25  \n",
       "3        56.25  \n",
       "4        51.75  \n",
       "5        51.25  \n",
       "6        54.00  \n",
       "7        53.75  \n",
       "8        58.00  \n",
       "9        56.25  "
      ]
     },
     "execution_count": 28,
     "metadata": {},
     "output_type": "execute_result"
    }
   ],
   "source": [
    "df"
   ]
  },
  {
   "cell_type": "markdown",
   "id": "b492c0fc",
   "metadata": {},
   "source": [
    "The averages will be gathered by denomstrators, along with quiz marks.  These are anonymous!"
   ]
  },
  {
   "cell_type": "markdown",
   "id": "303c11c1",
   "metadata": {},
   "source": [
    "Whilst we are waiting for all the class data to be gathered in have a play with different plots you can do with seaborn"
   ]
  },
  {
   "cell_type": "code",
   "execution_count": null,
   "id": "40468cf9",
   "metadata": {},
   "outputs": [],
   "source": [
    "https://seaborn.pydata.org/examples/"
   ]
  },
  {
   "cell_type": "markdown",
   "id": "c0b15f46",
   "metadata": {},
   "source": [
    "### Whole-class data gathering"
   ]
  },
  {
   "cell_type": "markdown",
   "id": "9d04f2f9",
   "metadata": {},
   "source": [
    "Demonstrators will enter all the data into a sharepoint document which can be read in using this code (once it is complete!).  \n",
    "\n",
    "Data is:\n",
    "Student_Group, Student_number, Head_Size_cm, Quiz_Score"
   ]
  },
  {
   "cell_type": "code",
   "execution_count": 20,
   "id": "2ac01fbd",
   "metadata": {},
   "outputs": [],
   "source": [
    "#download shared group data\n",
    " \n",
    "import requests\n",
    "import pandas as pd\n",
    " \n",
    "file_url = 'https://uoe-my.sharepoint.com/:x:/g/personal/ckidner_ed_ac_uk/EWOdw-R6PTFOhgM8RkdP1dkB61N7-Z-gaOuRXFdPSK9fpw?download=1'\n",
    "image_name = 'DexB2_class_data.xlsx'\n",
    "r = requests.get(file_url, stream=True)\n",
    "with open(image_name, 'wb') as f:\n",
    "    for chunk in r.iter_content():\n",
    "        f.write(chunk)"
   ]
  },
  {
   "cell_type": "code",
   "execution_count": 21,
   "id": "2d05632d",
   "metadata": {
    "vscode": {
     "languageId": "r"
    }
   },
   "outputs": [],
   "source": [
    "df=pd.read_excel('DexB2_class_data.xlsx')"
   ]
  },
  {
   "cell_type": "code",
   "execution_count": 22,
   "id": "56235528",
   "metadata": {},
   "outputs": [
    {
     "data": {
      "text/html": [
       "<div>\n",
       "<style scoped>\n",
       "    .dataframe tbody tr th:only-of-type {\n",
       "        vertical-align: middle;\n",
       "    }\n",
       "\n",
       "    .dataframe tbody tr th {\n",
       "        vertical-align: top;\n",
       "    }\n",
       "\n",
       "    .dataframe thead th {\n",
       "        text-align: right;\n",
       "    }\n",
       "</style>\n",
       "<table border=\"1\" class=\"dataframe\">\n",
       "  <thead>\n",
       "    <tr style=\"text-align: right;\">\n",
       "      <th></th>\n",
       "      <th>Student_Group</th>\n",
       "      <th>Student_Number</th>\n",
       "      <th>Head_Size_cm</th>\n",
       "      <th>Quiz_Score</th>\n",
       "    </tr>\n",
       "  </thead>\n",
       "  <tbody>\n",
       "    <tr>\n",
       "      <th>0</th>\n",
       "      <td>gr1</td>\n",
       "      <td>1</td>\n",
       "      <td>56</td>\n",
       "      <td>7</td>\n",
       "    </tr>\n",
       "    <tr>\n",
       "      <th>1</th>\n",
       "      <td>gr1</td>\n",
       "      <td>2</td>\n",
       "      <td>54</td>\n",
       "      <td>3</td>\n",
       "    </tr>\n",
       "    <tr>\n",
       "      <th>2</th>\n",
       "      <td>gr1</td>\n",
       "      <td>3</td>\n",
       "      <td>57</td>\n",
       "      <td>6</td>\n",
       "    </tr>\n",
       "    <tr>\n",
       "      <th>3</th>\n",
       "      <td>gr1</td>\n",
       "      <td>4</td>\n",
       "      <td>52</td>\n",
       "      <td>2</td>\n",
       "    </tr>\n",
       "    <tr>\n",
       "      <th>4</th>\n",
       "      <td>gr1</td>\n",
       "      <td>5</td>\n",
       "      <td>51</td>\n",
       "      <td>9</td>\n",
       "    </tr>\n",
       "  </tbody>\n",
       "</table>\n",
       "</div>"
      ],
      "text/plain": [
       "  Student_Group  Student_Number  Head_Size_cm  Quiz_Score\n",
       "0           gr1               1            56           7\n",
       "1           gr1               2            54           3\n",
       "2           gr1               3            57           6\n",
       "3           gr1               4            52           2\n",
       "4           gr1               5            51           9"
      ]
     },
     "execution_count": 22,
     "metadata": {},
     "output_type": "execute_result"
    }
   ],
   "source": [
    "df"
   ]
  },
  {
   "cell_type": "markdown",
   "id": "9e181f35",
   "metadata": {},
   "source": [
    "Are head circumferences normally distributed?"
   ]
  },
  {
   "cell_type": "code",
   "execution_count": null,
   "id": "433eef0a",
   "metadata": {},
   "outputs": [],
   "source": [
    "sns.histplot(data = df, x='Head_Size_cm')"
   ]
  },
  {
   "cell_type": "markdown",
   "id": "6329ed5b",
   "metadata": {},
   "source": [
    "Use the Shaprio-Wilkes test to check for normality"
   ]
  },
  {
   "cell_type": "code",
   "execution_count": null,
   "id": "34a1eeb5",
   "metadata": {},
   "outputs": [],
   "source": [
    "# test for normality\n",
    "stat, p = shapiro(df['Head_Size_cm'])\n",
    "print('Statistics=%.3f, p=%.3f' % (stat, p))\n",
    "\n",
    "alpha = 0.05\n",
    "if p > alpha:\n",
    "\tprint('Sample looks Gaussian (fail to reject H0)')\n",
    "else:\n",
    "\tprint('Sample does not look Gaussian (reject H0)')"
   ]
  },
  {
   "cell_type": "markdown",
   "id": "2fdb0054",
   "metadata": {},
   "source": [
    "### Now for the intelligence part!  \n",
    "Plot a histogram and check the normality of the quiz marks"
   ]
  },
  {
   "cell_type": "markdown",
   "id": "3a155600",
   "metadata": {},
   "source": [
    "Is there a correlation between head size and abiltiy to recall data analysis skills from last year?  \n",
    "Plot one against the other using:  \n",
    "\n",
    "    sns.regplot(data=df, x=\"Head_Size_cm\", y=\"Quiz_mark\")"
   ]
  },
  {
   "cell_type": "code",
   "execution_count": null,
   "id": "ce76f0c3",
   "metadata": {},
   "outputs": [],
   "source": []
  }
 ],
 "metadata": {
  "kernelspec": {
   "display_name": "Python 3 (ipykernel)",
   "language": "python",
   "name": "python3"
  },
  "language_info": {
   "codemirror_mode": {
    "name": "ipython",
    "version": 3
   },
   "file_extension": ".py",
   "mimetype": "text/x-python",
   "name": "python",
   "nbconvert_exporter": "python",
   "pygments_lexer": "ipython3",
   "version": "3.8.13"
  }
 },
 "nbformat": 4,
 "nbformat_minor": 5
}
