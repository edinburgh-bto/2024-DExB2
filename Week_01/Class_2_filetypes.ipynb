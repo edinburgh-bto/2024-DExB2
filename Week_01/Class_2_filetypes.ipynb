{
 "cells": [
  {
   "cell_type": "markdown",
   "id": "185e351c",
   "metadata": {},
   "source": [
    "# Plain text and binary files\n",
    "\n",
    "What's the difference between .csv and .xlsx and why should you care?\n",
    "\n",
    "A brief introduction, with thanks to Practical Data Science book: https://www.practicaldatascience.org/notebooks/class_3/week_3/03_plaintext_files.html\n",
    "\n",
    "\n",
    "## Things can look different from how they seem\n",
    "\n",
    "1. The SAME data can be stored in DIFFERENT kinds of files\n",
    "2. The SAME file can look DIFFERENT depending on how you look at it\n",
    "\n",
    "All computer files are actually binary files, series of 0s and 1s. An encoding tells computer programs how to interpret those 0s and 1s in a useful way.\n",
    "\n",
    "A plain text file is one that is encoded as text, so that every computer program will know that it is text. The main encodings are called ASCII and Unicode (see https://www.geeksforgeeks.org/ascii-vs-unicode/).\n",
    "\n",
    "On your computer, you probably have text editors Notepad (Windows) or TextEdit (Mac). \n",
    "\n",
    "## Plain text files\n",
    "\n",
    "Might look like this:\n",
    "\n",
    "```\n",
    "Alice\n",
    "Bob\n",
    "Charmaine\n",
    "Deepak\n",
    "```\n",
    "\n",
    "Or this:\n",
    "\n",
    "```\n",
    "|\\---/|\n",
    "| o_o |\n",
    " \\_^_/\n",
    "```\n",
    "\n",
    "That's an example of \"ascii art\", from https://www.asciiart.eu/animals/cats\n",
    "\n",
    "Plain text files have *characters*, like A, b, T, -, /, ^, etc. Separated by line breaks, which are actually encoded invisibly as text using `\\n`.\n",
    "\n",
    "Python code is written in plain text!\n",
    "\n",
    "In this course there's 2 main plaintext formats we'll care about, that encode data.\n",
    "\n",
    "- Comma Separated Values (CSVs): plaintext files that use the file suffix .csv. In these files, each row of text represents one row in the data, and columns are separated by commas.\n",
    "- Tab Separated Values (TSVs): plaintext files that usually use the file suffix .txt or, less commonly, .tsv. In these files, each row of text represents one row in the data, and columns are separated by tabs (the special character denoting an indentation).\n",
    "\n",
    "What a .csv looks like:\n",
    "\n",
    "```\n",
    "Country,Region,Population\n",
    "UK,\"Europe\",67596281\n",
    "Brazil,\"S. America\",203080756\n",
    "Tuvalu,\"Oceania\",11900\n",
    "```\n",
    "\n",
    "What the same data look like in .tsv:\n",
    "```\n",
    "Country\\tRegion\\tPopulation\n",
    "UK\\t\"Europe\"\\t67596281\n",
    "Brazil\\t\"S. America\"\\t203080756\n",
    "Tuvalu\\t\"Oceania\"\\t11900\n",
    "```\n",
    "\n",
    "Here, `\\t` means \"tab\" as in \"tab-separated\". In fact, the end of a line is encoded with a \"\\n\", the backslash \"\\\" works to indicate a special character.\n",
    "\n",
    "In all cases, we have to tell Python or any other program to open the data in the right way."
   ]
  },
  {
   "cell_type": "code",
   "execution_count": null,
   "id": "e2c69e41",
   "metadata": {},
   "outputs": [],
   "source": [
    "print('Country\\tRegion\\tPopulation\\n',\n",
    "'UK\\t\"Europe\"\\t67596281\\n'\n",
    "'Brazil\\t\"S. America\"\\t203080756\\n'\n",
    "'Tuvalu\\t\"Oceania\"\\t11900\\n')"
   ]
  },
  {
   "cell_type": "markdown",
   "id": "8d9be8aa",
   "metadata": {},
   "source": [
    "# What's a binary file?\n",
    "\n",
    "Everything else! .xlsx, .docx, .jpeg, .xml, etc.\n",
    "\n",
    "Binary files tend to be stored more efficiently. They can contain more information, using less disk space. Or they can contain lots of formatting information. But they can also be less portable between different programs.\n",
    "\n",
    "For example, a portion of the data above from an .xlsx Excel spreadsheet looks like this:\n",
    "\n",
    "```\n",
    "<?xml version=\"1.0\" encoding=\"UTF-8\" standalone=\"yes\"?>\n",
    "<worksheet xmlns=\"http://schemas.openxmlformats.org/spreadsheetml/2006/main\" xmlns:r=\"http://schemas.openxmlformats.org/officeDocument/2006/relationships\" xmlns:mc=\"http://schemas.openxmlformats.org/markup-compatibility/2006\" mc:Ignorable=\"x14ac xr xr2 xr3\" xmlns:x14ac=\"http://schemas.microsoft.com/office/spreadsheetml/2009/9/ac\" xmlns:xr=\"http://schemas.microsoft.com/office/spreadsheetml/2014/revision\" xmlns:xr2=\"http://schemas.microsoft.com/office/spreadsheetml/2015/revision2\" xmlns:xr3=\"http://schemas.microsoft.com/office/spreadsheetml/2016/revision3\" xr:uid=\"{37925CF0-9FB6-DC4E-81C0-CCD26F80CB69}\"><dimension ref=\"A1:C4\"/><sheetViews><sheetView tabSelected=\"1\" workbookViewId=\"0\"><selection activeCell=\"A2\" sqref=\"A2\"/></sheetView></sheetViews><sheetFormatPr baseColWidth=\"10\" defaultRowHeight=\"16\" x14ac:dyDescent=\"0.2\"/><sheetData><row r=\"1\" spans=\"1:3\" x14ac:dyDescent=\"0.2\"><c r=\"A1\" t=\"s\"><v>0</v></c><c r=\"B1\" t=\"s\"><v>1</v></c><c r=\"C1\" t=\"s\"><v>2</v></c></row><row r=\"2\" spans=\"1:3\" x14ac:dyDescent=\"0.2\"><c r=\"A2\" t=\"s\"><v>8</v></c><c r=\"B2\" t=\"s\"><v>3</v></c><c r=\"C2\"><v>67596281</v></c></row><row r=\"3\" spans=\"1:3\" x14ac:dyDescent=\"0.2\"><c r=\"A3\" t=\"s\"><v>4</v></c><c r=\"B3\" t=\"s\"><v>5</v></c><c r=\"C3\"><v>203080756</v></c></row><row r=\"4\" spans=\"1:3\" x14ac:dyDescent=\"0.2\"><c r=\"A4\" t=\"s\"><v>6</v></c><c r=\"B4\" t=\"s\"><v>7</v></c><c r=\"C4\"><v>11900</v></c></row></sheetData><pageMargins left=\"0.7\" right=\"0.7\" top=\"0.75\" bottom=\"0.75\" header=\"0.3\" footer=\"0.3\"/></worksheet>\n",
    "```\n",
    "\n",
    "## The bottom line\n",
    "\n",
    "Check the format of your data! Check you have read it into data analysis as intended!"
   ]
  },
  {
   "cell_type": "markdown",
   "id": "ad90c42f",
   "metadata": {},
   "source": [
    "## An example: data frame to different filetypes"
   ]
  },
  {
   "cell_type": "code",
   "execution_count": null,
   "id": "ea0f0965",
   "metadata": {},
   "outputs": [],
   "source": [
    "# Import pandas library\n",
    "import pandas as pd"
   ]
  },
  {
   "cell_type": "code",
   "execution_count": null,
   "id": "7714f388",
   "metadata": {},
   "outputs": [],
   "source": [
    "# initialize list of lists\n",
    "data = [['alice', 10], ['bob', 15], ['charmaine', 15], ['deepak', 14]]\n",
    "\n",
    "# Create the pandas DataFrame\n",
    "df = pd.DataFrame(data, columns=['Name', 'Age'])\n",
    "\n",
    "# print dataframe.\n",
    "print(df)"
   ]
  },
  {
   "cell_type": "code",
   "execution_count": null,
   "id": "63b71b81",
   "metadata": {},
   "outputs": [],
   "source": [
    "# print the output in .csv format just in the notebook\n",
    "df.to_csv()"
   ]
  },
  {
   "cell_type": "code",
   "execution_count": null,
   "id": "75d0795f",
   "metadata": {},
   "outputs": [],
   "source": [
    "# print the output in .tsv format using a tab-separator\n",
    "df.to_csv(sep='\\t')"
   ]
  },
  {
   "cell_type": "code",
   "execution_count": null,
   "id": "569c23f9",
   "metadata": {},
   "outputs": [],
   "source": [
    "# write to file\n",
    "df.to_csv(path_or_buf='kids_ages.txt', sep='\\t')"
   ]
  },
  {
   "cell_type": "markdown",
   "id": "6d3d7d82",
   "metadata": {},
   "source": [
    "## Exercises to know more\n",
    "\n",
    "Read the 'kids_ages.txt' file with different programs.\n",
    "Try some other datasets.\n",
    "\n",
    "Find the help page for pandas `to_excel`, `read_excel`, and check that you can get data in and out of excel formats too."
   ]
  }
 ],
 "metadata": {
  "kernelspec": {
   "display_name": "Python 3 (ipykernel)",
   "language": "python",
   "name": "python3"
  },
  "language_info": {
   "codemirror_mode": {
    "name": "ipython",
    "version": 3
   },
   "file_extension": ".py",
   "mimetype": "text/x-python",
   "name": "python",
   "nbconvert_exporter": "python",
   "pygments_lexer": "ipython3",
   "version": "3.9.13"
  }
 },
 "nbformat": 4,
 "nbformat_minor": 5
}
