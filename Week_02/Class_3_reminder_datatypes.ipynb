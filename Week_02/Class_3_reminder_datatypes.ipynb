{
 "cells": [
  {
   "cell_type": "markdown",
   "id": "7ef263de",
   "metadata": {},
   "source": [
    "# Reminder on data types\n",
    "\n",
    "*Note: EW created this from scratch as a live coding demonstration, after reviewing variables and .dtype in lecture.*\n",
    "\n",
    "This notebook briefly reminds how to:\n",
    "\n",
    "- create a notebook\n",
    "- load a .csv file\n",
    "- ask about data types in a data frame"
   ]
  },
  {
   "cell_type": "code",
   "execution_count": 8,
   "id": "22963b77",
   "metadata": {},
   "outputs": [],
   "source": [
    "import pandas as pd"
   ]
  },
  {
   "cell_type": "code",
   "execution_count": 9,
   "id": "020ae91a",
   "metadata": {},
   "outputs": [],
   "source": [
    "# This filename was used to demonstrate the use of tab auto-complete, an idea repeated through the demo\n",
    "# after typing the initial part of a filename or command name, pressing the tab button will complete it\n",
    "# spelled correctly!\n",
    "\n",
    "df = pd.read_csv('2024-DExB2/Datasets/count.csv')"
   ]
  },
  {
   "cell_type": "code",
   "execution_count": 3,
   "id": "90cc45c2",
   "metadata": {},
   "outputs": [
    {
     "name": "stdout",
     "output_type": "stream",
     "text": [
      "         Field  Sheep  Goats  Barley  Oats\n",
      "0    Waun_fach     45     44     103   521\n",
      "1    Ffos_fawr      5      2     233   324\n",
      "2   Aberheidol     67     23     432   734\n",
      "3      Hen_cae      8      6     612   123\n",
      "4       Glynan     23      7     332   243\n",
      "5       Derwen      4      9      12   734\n",
      "6   Llanwenant     55      3       4   128\n",
      "7  Heol-y-bryn      1     11     543   223\n",
      "8    Lan-y-mor      2     34     723   316\n",
      "9   Pen-y-garn     67      3     126   402\n"
     ]
    }
   ],
   "source": [
    "print(df)"
   ]
  },
  {
   "cell_type": "code",
   "execution_count": 4,
   "id": "9476b2d4",
   "metadata": {},
   "outputs": [
    {
     "data": {
      "text/plain": [
       "pandas.core.frame.DataFrame"
      ]
     },
     "execution_count": 4,
     "metadata": {},
     "output_type": "execute_result"
    }
   ],
   "source": [
    "type(df)"
   ]
  },
  {
   "cell_type": "code",
   "execution_count": 5,
   "id": "9f43c060",
   "metadata": {},
   "outputs": [
    {
     "data": {
      "text/plain": [
       "Field     object\n",
       "Sheep      int64\n",
       "Goats      int64\n",
       "Barley     int64\n",
       "Oats       int64\n",
       "dtype: object"
      ]
     },
     "execution_count": 5,
     "metadata": {},
     "output_type": "execute_result"
    }
   ],
   "source": [
    "df.dtypes"
   ]
  },
  {
   "cell_type": "code",
   "execution_count": 6,
   "id": "8a40145b",
   "metadata": {},
   "outputs": [
    {
     "data": {
      "text/plain": [
       "0    521\n",
       "1    324\n",
       "2    734\n",
       "3    123\n",
       "4    243\n",
       "5    734\n",
       "6    128\n",
       "7    223\n",
       "8    316\n",
       "9    402\n",
       "Name: Oats, dtype: int64"
      ]
     },
     "execution_count": 6,
     "metadata": {},
     "output_type": "execute_result"
    }
   ],
   "source": [
    "df['Oats']"
   ]
  },
  {
   "cell_type": "code",
   "execution_count": 7,
   "id": "50abce8d",
   "metadata": {},
   "outputs": [
    {
     "data": {
      "text/plain": [
       "dtype('int64')"
      ]
     },
     "execution_count": 7,
     "metadata": {},
     "output_type": "execute_result"
    }
   ],
   "source": [
    "df['Oats'].dtype"
   ]
  },
  {
   "cell_type": "code",
   "execution_count": null,
   "id": "1e72630e",
   "metadata": {},
   "outputs": [],
   "source": []
  }
 ],
 "metadata": {
  "kernelspec": {
   "display_name": "Python 3 (ipykernel)",
   "language": "python",
   "name": "python3"
  },
  "language_info": {
   "codemirror_mode": {
    "name": "ipython",
    "version": 3
   },
   "file_extension": ".py",
   "mimetype": "text/x-python",
   "name": "python",
   "nbconvert_exporter": "python",
   "pygments_lexer": "ipython3",
   "version": "3.9.13"
  }
 },
 "nbformat": 4,
 "nbformat_minor": 5
}
