{
 "cells": [
  {
   "cell_type": "markdown",
   "id": "6da862e9",
   "metadata": {},
   "source": [
    "# Breaking down & building up, understanding python commands\n",
    "\n",
    "This notebook briefly covers how to think about python syntax and break down commands to build your understanding."
   ]
  },
  {
   "cell_type": "code",
   "execution_count": null,
   "id": "8ad98df0",
   "metadata": {},
   "outputs": [],
   "source": [
    "import pandas as pd\n",
    "import numpy as np"
   ]
  },
  {
   "cell_type": "code",
   "execution_count": null,
   "id": "5bdca7bf",
   "metadata": {},
   "outputs": [],
   "source": [
    "df = pd.read_csv('2024-DExB2/Datasets/count.csv')"
   ]
  },
  {
   "cell_type": "markdown",
   "id": "96b85605",
   "metadata": {},
   "source": [
    "What's the difference in the next 3 lines of code? Functions need round brackets (parentheses)."
   ]
  },
  {
   "cell_type": "code",
   "execution_count": null,
   "id": "99d0264a",
   "metadata": {},
   "outputs": [],
   "source": [
    "print"
   ]
  },
  {
   "cell_type": "code",
   "execution_count": null,
   "id": "116310b1",
   "metadata": {},
   "outputs": [],
   "source": [
    "print()"
   ]
  },
  {
   "cell_type": "code",
   "execution_count": null,
   "id": "64b6e0c4",
   "metadata": {},
   "outputs": [],
   "source": [
    "?print"
   ]
  },
  {
   "cell_type": "markdown",
   "id": "973f1b99",
   "metadata": {},
   "source": [
    "# Other kinds of functions\n",
    "\n",
    "Some python objects have “methods”, which are like object-specific functions\n",
    "\n",
    "  - `df.dropna()`\n",
    "\n",
    "Python packages are collections of functions\n",
    "\n",
    "  - `np`\n",
    "  - `np.log10()`\n",
    "\n",
    "These look similar but are different. If in doubt, ask them:\n",
    "  - `np`\n",
    "  - `df`\n"
   ]
  },
  {
   "cell_type": "markdown",
   "id": "c785e707",
   "metadata": {},
   "source": [
    "## Quotes are important!\n",
    "\n",
    "What's going on in each of these lines of code?"
   ]
  },
  {
   "cell_type": "code",
   "execution_count": null,
   "id": "d66bd8c6",
   "metadata": {},
   "outputs": [],
   "source": [
    "df"
   ]
  },
  {
   "cell_type": "code",
   "execution_count": null,
   "id": "07708cf1",
   "metadata": {},
   "outputs": [],
   "source": [
    "\"df\""
   ]
  },
  {
   "cell_type": "code",
   "execution_count": null,
   "id": "d9b5d002",
   "metadata": {},
   "outputs": [],
   "source": [
    "'df'"
   ]
  },
  {
   "cell_type": "code",
   "execution_count": null,
   "id": "0257a75e",
   "metadata": {},
   "outputs": [],
   "source": [
    "print(df)"
   ]
  },
  {
   "cell_type": "code",
   "execution_count": null,
   "id": "3ad99c5d",
   "metadata": {},
   "outputs": [],
   "source": [
    "print(\"df\")"
   ]
  },
  {
   "cell_type": "code",
   "execution_count": null,
   "id": "9a310df7",
   "metadata": {},
   "outputs": [],
   "source": [
    "print(\"df'\")"
   ]
  },
  {
   "cell_type": "markdown",
   "id": "a477fd32",
   "metadata": {},
   "source": [
    "## Breaking down a complex command into parts\n",
    "\n",
    "Suppose you encounter a complex command, how do you go about understanding it?"
   ]
  },
  {
   "cell_type": "code",
   "execution_count": null,
   "id": "b3edf956",
   "metadata": {},
   "outputs": [],
   "source": [
    "np.log10(df.iloc[:, 1:2])"
   ]
  },
  {
   "attachments": {},
   "cell_type": "markdown",
   "id": "0b9d2ab9",
   "metadata": {},
   "source": [
    "How can you figure out this complex command?\n",
    "\n",
    "Break it down from the inside to the outside. Ask for help.\n",
    "\n",
    "Try these commands, then try to explain in words what the more complex command is doing."
   ]
  },
  {
   "cell_type": "code",
   "execution_count": null,
   "id": "3bd1ca88",
   "metadata": {},
   "outputs": [],
   "source": [
    "?df.iloc"
   ]
  },
  {
   "cell_type": "code",
   "execution_count": null,
   "id": "9e620772",
   "metadata": {},
   "outputs": [],
   "source": [
    "df.iloc[:, 1:2]"
   ]
  },
  {
   "cell_type": "markdown",
   "id": "c6129ebb",
   "metadata": {},
   "source": [
    "Try some variations on that command - edit the `:` and the numbers to see what changes."
   ]
  },
  {
   "cell_type": "code",
   "execution_count": null,
   "id": "77381f6c",
   "metadata": {},
   "outputs": [],
   "source": [
    "?np.log10"
   ]
  },
  {
   "attachments": {},
   "cell_type": "markdown",
   "id": "3bfab66d",
   "metadata": {},
   "source": [
    "## More intro to python material\n",
    "\n",
    "- Software Carpentry python novice\n",
    " https://swcarpentry.github.io/python-novice-inflammation/\n",
    "- Variation 1 self-study notebooks\n",
    " https://github.com/edinburgh-bto/Variation1\n",
    "- Python for Biologists, Martin Jones (also at library)\n",
    "https://pythonforbiologists.com/tutorial/"
   ]
  }
 ],
 "metadata": {
  "kernelspec": {
   "display_name": "Python 3 (ipykernel)",
   "language": "python",
   "name": "python3"
  },
  "language_info": {
   "codemirror_mode": {
    "name": "ipython",
    "version": 3
   },
   "file_extension": ".py",
   "mimetype": "text/x-python",
   "name": "python",
   "nbconvert_exporter": "python",
   "pygments_lexer": "ipython3",
   "version": "3.9.13"
  }
 },
 "nbformat": 4,
 "nbformat_minor": 5
}
